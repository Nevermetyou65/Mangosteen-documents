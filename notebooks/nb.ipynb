{
 "cells": [
  {
   "cell_type": "code",
   "execution_count": 1,
   "id": "aa244620-8f57-43e5-b053-df1b430f274a",
   "metadata": {},
   "outputs": [],
   "source": [
    "import glob\n",
    "\n",
    "import pandas as pd\n",
    "import torch\n",
    "from loguru import logger\n",
    "from transformers import AutoModelForCausalLM, BarthezTokenizer\n",
    "\n",
    "from utils.compute_ppl import compute_ppl_for_documents\n",
    "from utils.filter import filter_by_image, filter_by_lang\n",
    "from utils.utils import get_current_datetime"
   ]
  },
  {
   "cell_type": "code",
   "execution_count": 2,
   "id": "b6cd2830",
   "metadata": {},
   "outputs": [],
   "source": [
    "current_datetime_suffix = get_current_datetime()"
   ]
  },
  {
   "cell_type": "code",
   "execution_count": 3,
   "id": "a2fe1d1d-db1a-4abc-bfed-ecfc7d5e6887",
   "metadata": {},
   "outputs": [
    {
     "name": "stdout",
     "output_type": "stream",
     "text": [
      "Num pdf: 3\n"
     ]
    }
   ],
   "source": [
    "md_files = glob.glob(\"../documents/extract_result/*/*/*.md\")\n",
    "json_files = glob.glob(\"../documents/extract_result/*/*/*.json\")\n",
    "\n",
    "print(f\"Num pdf: {len(md_files)}\")\n",
    "assert len(md_files) == len(json_files)"
   ]
  },
  {
   "cell_type": "code",
   "execution_count": 4,
   "id": "4d63e2f8-bfbf-4791-9628-e455a39733e1",
   "metadata": {},
   "outputs": [
    {
     "data": {
      "application/vnd.jupyter.widget-view+json": {
       "model_id": "d974c9de937543fbb6379a3b9d28d3be",
       "version_major": 2,
       "version_minor": 0
      },
      "text/plain": [
       "  0%|          | 0/3 [00:00<?, ?it/s]"
      ]
     },
     "metadata": {},
     "output_type": "display_data"
    },
    {
     "name": "stderr",
     "output_type": "stream",
     "text": [
      "\u001b[32m2025-10-06 19:43:43.452\u001b[0m | \u001b[1mINFO    \u001b[0m | \u001b[36mutils.filter\u001b[0m:\u001b[36mfilter_by_image\u001b[0m:\u001b[36m29\u001b[0m - \u001b[1mNum remain: 3:,\u001b[0m\n"
     ]
    },
    {
     "data": {
      "application/vnd.jupyter.widget-view+json": {
       "model_id": "4351a45aedf74b09831c7da77b63319b",
       "version_major": 2,
       "version_minor": 0
      },
      "text/plain": [
       "  0%|          | 0/3 [00:00<?, ?it/s]"
      ]
     },
     "metadata": {},
     "output_type": "display_data"
    },
    {
     "name": "stderr",
     "output_type": "stream",
     "text": [
      "\u001b[32m2025-10-06 19:43:43.485\u001b[0m | \u001b[1mINFO    \u001b[0m | \u001b[36mutils.filter\u001b[0m:\u001b[36mfilter_by_lang\u001b[0m:\u001b[36m46\u001b[0m - \u001b[1mNum remain: 3\u001b[0m\n"
     ]
    }
   ],
   "source": [
    "remain = filter_by_image(json_files, logger)\n",
    "remain = filter_by_lang(\n",
    "    md_files=[p.replace(\"_meta.json\", \".md\") for p in remain], logger=logger\n",
    ")"
   ]
  },
  {
   "cell_type": "code",
   "execution_count": 5,
   "id": "2f82a4d2-c534-496a-94ba-13cf3ff9f47a",
   "metadata": {
    "scrolled": true
   },
   "outputs": [],
   "source": [
    "pd.Series(remain).to_csv(\n",
    "    f\"../documents/filtered_documents/filter_by_rules_{current_datetime_suffix}.csv\",\n",
    "    index=False,\n",
    ")"
   ]
  },
  {
   "cell_type": "code",
   "execution_count": 6,
   "id": "15ee5687",
   "metadata": {},
   "outputs": [
    {
     "name": "stderr",
     "output_type": "stream",
     "text": [
      "\u001b[32m2025-10-06 19:43:43.521\u001b[0m | \u001b[1mINFO    \u001b[0m | \u001b[36m__main__\u001b[0m:\u001b[36m<module>\u001b[0m:\u001b[36m9\u001b[0m - \u001b[1mUsing Apple MPS\u001b[0m\n"
     ]
    }
   ],
   "source": [
    "if torch.cuda.is_available():\n",
    "    device = \"cuda\"\n",
    "    logger.info(f\"Using CUDA GPU: {torch.cuda.get_device_name()}\")\n",
    "    logger.info(\n",
    "        f\"GPU memory: {torch.cuda.get_device_properties(0).total_memory / 1e9:.1f}GB\"\n",
    "    )\n",
    "elif hasattr(torch.backends, \"mps\") and torch.backends.mps.is_available():\n",
    "    device = \"mps\"\n",
    "    logger.info(\"Using Apple MPS\")\n",
    "else:\n",
    "    device = \"cpu\"\n",
    "    logger.info(\"Using CPU - you will need to use a GPU to train models\")"
   ]
  },
  {
   "cell_type": "code",
   "execution_count": 7,
   "id": "287a9cc5",
   "metadata": {},
   "outputs": [
    {
     "data": {
      "application/vnd.jupyter.widget-view+json": {
       "model_id": "80bbcdad7d1b4d31a57951d2b76c819b",
       "version_major": 2,
       "version_minor": 0
      },
      "text/plain": [
       "  0%|          | 0/3 [00:00<?, ?it/s]"
      ]
     },
     "metadata": {},
     "output_type": "display_data"
    }
   ],
   "source": [
    "model_name = \"airesearch/wangchanbart-base\"\n",
    "model = AutoModelForCausalLM.from_pretrained(model_name, device_map=device)\n",
    "tokenizer = BarthezTokenizer.from_pretrained(model_name)\n",
    "max_length = model.config.max_position_embeddings\n",
    "ppl_list = compute_ppl_for_documents(\n",
    "    max_length,\n",
    "    512,\n",
    "    remain,\n",
    "    model,\n",
    "    tokenizer,\n",
    "    logger,\n",
    "    device,\n",
    ")"
   ]
  },
  {
   "cell_type": "code",
   "execution_count": 8,
   "id": "521b5d3f-b987-4cf4-82e1-b3250ad02c52",
   "metadata": {
    "scrolled": true
   },
   "outputs": [],
   "source": [
    "ppldf = pd.DataFrame(ppl_list, columns=[\"file_path\", \"ppl_score\"])\n",
    "ppldf.to_csv(\n",
    "    f\"../documents/ppl/perplexity_score_{current_datetime_suffix}.csv\", index=False\n",
    ")"
   ]
  },
  {
   "cell_type": "code",
   "execution_count": 9,
   "id": "ea770403-572e-46d3-ae84-c29ffcdeb855",
   "metadata": {},
   "outputs": [],
   "source": [
    "filtered = ppldf.loc[ppldf[\"ppl_score\"].lt(1500)].copy()\n",
    "filtered[\"file_path\"] = filtered[\"file_path\"].str.replace(r\"../\", \"\", regex=False)\n",
    "filtered.to_csv(\n",
    "    f\"../documents/filtered_documents/filter_by_ppl_{current_datetime_suffix}.csv\",\n",
    "    index=False,\n",
    ")"
   ]
  },
  {
   "cell_type": "code",
   "execution_count": null,
   "id": "33efca0a-07ad-4c73-9606-ff967ed0f614",
   "metadata": {},
   "outputs": [],
   "source": []
  },
  {
   "cell_type": "code",
   "execution_count": null,
   "id": "a2ec2fc4",
   "metadata": {},
   "outputs": [],
   "source": []
  },
  {
   "cell_type": "code",
   "execution_count": null,
   "id": "ca26de2a",
   "metadata": {},
   "outputs": [],
   "source": []
  }
 ],
 "metadata": {
  "kernelspec": {
   "display_name": ".venv",
   "language": "python",
   "name": "python3"
  },
  "language_info": {
   "codemirror_mode": {
    "name": "ipython",
    "version": 3
   },
   "file_extension": ".py",
   "mimetype": "text/x-python",
   "name": "python",
   "nbconvert_exporter": "python",
   "pygments_lexer": "ipython3",
   "version": "3.11.12"
  }
 },
 "nbformat": 4,
 "nbformat_minor": 5
}
