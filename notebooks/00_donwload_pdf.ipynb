{
 "cells": [
  {
   "cell_type": "code",
   "execution_count": 1,
   "id": "e432da7b-e0b0-436d-92da-3ac1a4a39399",
   "metadata": {},
   "outputs": [],
   "source": [
    "import requests\n",
    "import pandas as pd\n",
    "import os\n",
    "import subprocess\n",
    "import random\n",
    "import string\n",
    "import base64\n",
    "\n",
    "from tqdm.auto import tqdm\n",
    "from bs4 import BeautifulSoup\n",
    "from pprint import pprint"
   ]
  },
  {
   "cell_type": "code",
   "execution_count": 2,
   "id": "e7f31741-e339-4ff0-8c91-2d92ee484628",
   "metadata": {},
   "outputs": [],
   "source": [
    "def download_pdf(url, save_path, verify: bool = False):\n",
    "    \"\"\"\n",
    "    Downloads a PDF file from the given URL and saves it to the specified path.\n",
    "\n",
    "    Args:\n",
    "        url (str): The URL of the PDF file to download.\n",
    "        save_path (str): The local path where the PDF file should be saved.\n",
    "\n",
    "    Returns:\n",
    "        bool: True if the download was successful, False otherwise.\n",
    "    \"\"\"\n",
    "    try:\n",
    "        # Send a GET request to the URL\n",
    "        response = requests.get(url, stream=True, verify=verify)\n",
    "        response.raise_for_status()  # Raise an error for bad status codes\n",
    "\n",
    "        # Save the file in chunks to handle large files\n",
    "        try:\n",
    "            with open(save_path, \"wb\") as file:\n",
    "                for chunk in response.iter_content(chunk_size=1024):\n",
    "                    if chunk:  # Filter out keep-alive chunks\n",
    "                        file.write(chunk)\n",
    "\n",
    "            print(f\"Downloaded file saved to: {save_path}\")\n",
    "        except OSError as e:\n",
    "            print(e)\n",
    "            with open(save_path[:-20], \"wb\") as file:\n",
    "                for chunk in response.iter_content(chunk_size=1024):\n",
    "                    if chunk:  # Filter out keep-alive chunks\n",
    "                        file.write(chunk)\n",
    "        return True\n",
    "\n",
    "    except requests.exceptions.RequestException as e:\n",
    "        print(f\"Error downloading file: {e}\")\n",
    "        return False"
   ]
  },
  {
   "cell_type": "code",
   "execution_count": 3,
   "id": "b4944b37",
   "metadata": {},
   "outputs": [],
   "source": [
    "BASE_PATH_SAVE = \"../pdf_documents_tmp\"\n",
    "BASE_PATH_SAVE_META = \"../pdf_documents_meta_tmp\""
   ]
  },
  {
   "cell_type": "code",
   "execution_count": 4,
   "id": "62947e3d",
   "metadata": {},
   "outputs": [],
   "source": [
    "def wget_pdf(command: list) -> None:\n",
    "    try:\n",
    "        subprocess.run(command, check=True)\n",
    "        print(\"File downloaded successfully!\")\n",
    "    except subprocess.CalledProcessError as e:\n",
    "        print(f\"An error occurred: {e}\")\n",
    "\n",
    "\n",
    "def save_pdf_meta(meta: dict, meta_save_path: str):\n",
    "    pd.DataFrame([meta]).to_csv(meta_save_path, index=False)\n",
    "\n",
    "\n",
    "def generate_random_string(length=10):\n",
    "    return \"\".join(random.choices(string.ascii_letters + string.digits, k=length))"
   ]
  },
  {
   "cell_type": "code",
   "execution_count": 5,
   "id": "9aec3eab",
   "metadata": {},
   "outputs": [],
   "source": [
    "def string_to_code(input_string: str) -> str:\n",
    "    \"\"\"\n",
    "    Converts a string into a deterministic, one-to-one code using Base64 encoding.\n",
    "\n",
    "    Args:\n",
    "        input_string (str): The input string to be converted.\n",
    "\n",
    "    Returns:\n",
    "        str: The encoded string as a deterministic code.\n",
    "    \"\"\"\n",
    "    # Encode the string into bytes\n",
    "    string_bytes = input_string.replace(\" \", \"\").encode(\"utf-8\")\n",
    "    # Convert the bytes to a Base64 encoded string\n",
    "    encoded_string = base64.urlsafe_b64encode(string_bytes).decode(\"utf-8\")\n",
    "    print(f\"lenght encode string: {len(encoded_string)}\")\n",
    "    if len(encoded_string) >= 255:\n",
    "        print(\"name too long, truncate name\")\n",
    "        encoded_string = encoded_string[-64:]\n",
    "    return encoded_string\n",
    "\n",
    "\n",
    "def code_to_string(encoded_string: str) -> str:\n",
    "    \"\"\"\n",
    "    Decodes the deterministic code back to the original string.\n",
    "\n",
    "    Args:\n",
    "        encoded_string (str): The encoded string to be decoded.\n",
    "\n",
    "    Returns:\n",
    "        str: The original string.\n",
    "    \"\"\"\n",
    "    # Decode the Base64 string back to bytes\n",
    "    string_bytes = base64.urlsafe_b64decode(encoded_string.encode(\"utf-8\"))\n",
    "    # Convert bytes back to a string\n",
    "    original_string = string_bytes.decode(\"utf-8\")\n",
    "    return original_string"
   ]
  },
  {
   "cell_type": "code",
   "execution_count": null,
   "id": "8640f704",
   "metadata": {},
   "outputs": [],
   "source": [
    "# Example usage\n",
    "original_string = \"Hello, World!?\"\n",
    "encoded = string_to_code(original_string)\n",
    "decoded = code_to_string(encoded)\n",
    "\n",
    "print(\"Original String:\", original_string)\n",
    "print(\"Encoded Code:\", encoded)\n",
    "print(\"Decoded String:\", decoded)"
   ]
  },
  {
   "cell_type": "code",
   "execution_count": 7,
   "id": "df4884b6",
   "metadata": {},
   "outputs": [],
   "source": [
    "def remove_file(file_path: str) -> None:\n",
    "    \"\"\"\n",
    "    Removes a file at the specified path.\n",
    "\n",
    "    Args:\n",
    "        file_path (str): The path to the file to be removed.\n",
    "\n",
    "    Returns:\n",
    "        None\n",
    "    \"\"\"\n",
    "    try:\n",
    "        # Check if the file exists\n",
    "        if os.path.exists(file_path):\n",
    "            # Remove the file\n",
    "            os.remove(file_path)\n",
    "            print(f\"File '{file_path}' has been removed successfully.\")\n",
    "        else:\n",
    "            print(f\"File '{file_path}' does not exist.\")\n",
    "    except Exception as e:\n",
    "        print(f\"An error occurred while trying to remove the file: {e}\")"
   ]
  },
  {
   "cell_type": "code",
   "execution_count": 8,
   "id": "86f427e7",
   "metadata": {},
   "outputs": [],
   "source": [
    "def get_pdf_and_save_meta(\n",
    "    title: str,\n",
    "    url: str,\n",
    "    source: str,\n",
    "    license_: str,\n",
    "    filename: str,\n",
    "    command: list,\n",
    "    meta_save_path: str,\n",
    ") -> None:\n",
    "    pdf = {\n",
    "        \"title\": title,\n",
    "        \"url\": url,\n",
    "        \"source\": source,\n",
    "        \"license\": license_,\n",
    "        \"filename\": filename,\n",
    "    }\n",
    "    print(\"meta view\")\n",
    "    pprint(pdf)\n",
    "\n",
    "    wget_pdf(command=command)\n",
    "    save_pdf_meta(meta=pdf, meta_save_path=meta_save_path)"
   ]
  },
  {
   "cell_type": "code",
   "execution_count": null,
   "id": "22fdd0d4",
   "metadata": {},
   "outputs": [],
   "source": [
    "# web_url = \"https://gdcatalog.go.th/dataset/gdpublish-dsb21-1\"\n",
    "# # Use a session to reuse the TCP connection for faster requests\n",
    "# session = requests.Session()\n",
    "\n",
    "# # Fetch and parse the main page\n",
    "# response = session.get(web_url)\n",
    "# response.raise_for_status()\n",
    "# soup = BeautifulSoup(response.text, \"html.parser\")\n",
    "\n",
    "# # Extract resource links with titles\n",
    "# base_url = \"https://gdcatalog.go.th\"\n",
    "# resources_section = soup.find(\"section\", id=\"dataset-resources\")\n",
    "# resource_links = [\n",
    "#     {\n",
    "#         \"title\": a[\"title\"].strip(),\n",
    "#         \"href\": base_url + a[\"href\"],\n",
    "#         \"source\": \"Goverment data catalog smart plus\",\n",
    "#         \"license\": \"Open Data Common\",\n",
    "#     }\n",
    "#     for a in resources_section.find_all(\"a\", class_=\"heading\")\n",
    "# ]\n",
    "\n",
    "# # Process each resource to extract the PDF URL\n",
    "# for i, resource in enumerate(tqdm(resource_links, desc=\"Processing resources\")):\n",
    "#     pdf_page = session.get(resource[\"href\"])\n",
    "#     pdf_page.raise_for_status()\n",
    "#     pdf_soup = BeautifulSoup(pdf_page.text, \"html.parser\")\n",
    "#     pdf_url = pdf_soup.find(\"a\", class_=\"resource-url-analytics\")[\"href\"]\n",
    "#     resource[\"url\"] = pdf_url\n",
    "#     resource[\"filename\"] = f\"pdf_มูลค่าและระดับการเติบโตของกิจกรรมทางเศรษฐกิจดิจิทัล_0{i}.pdf\"\n",
    "#     resource.pop(\"href\", None)\n",
    "\n",
    "# resource_links = list(filter(lambda x: x[\"url\"].endswith(\".pdf\"), resource_links))\n",
    "# pd.DataFrame(resource_links).to_csv(\n",
    "#     \"../pdf_documents_meta_tmp/pdf_มูลค่าและระดับการเติบโตของกิจกรรมทางเศรษฐกิจดิจิทัล.csv\",\n",
    "#     index=False,\n",
    "# )\n",
    "# for item in tqdm(resource_links, desc=\"donwloading pdf \"):\n",
    "#     download_pdf(\n",
    "#         url=item[\"url\"], save_path=os.path.join(BASE_PATH_SAVE, item[\"filename\"])\n",
    "#     )"
   ]
  },
  {
   "cell_type": "code",
   "execution_count": null,
   "id": "1f5c830a",
   "metadata": {},
   "outputs": [],
   "source": [
    "BASE_GD_CATALOG_URL = \"https://gdcatalog.go.th\"\n",
    "\n",
    "def fetch_resource_links(\n",
    "    request_session: requests.Session, web_url: str, license: str\n",
    ") -> list[dict]:\n",
    "    \"\"\"Fetch resource links from the given web URL.\"\"\"\n",
    "    response = request_session.get(web_url)\n",
    "    response.raise_for_status()\n",
    "    soup = BeautifulSoup(response.text, \"html.parser\")\n",
    "\n",
    "    resources_section = soup.find(\"section\", id=\"dataset-resources\")\n",
    "    if not resources_section:\n",
    "        return []\n",
    "\n",
    "    return [\n",
    "        {\n",
    "            \"title\": a[\"title\"].strip(),\n",
    "            \"href\": BASE_GD_CATALOG_URL + a[\"href\"],\n",
    "            \"source\": \"Government data catalog smart plus\",\n",
    "            \"license\": license,\n",
    "        }\n",
    "        for a in resources_section.find_all(\"a\", class_=\"heading\")\n",
    "    ]\n",
    "\n",
    "\n",
    "def extract_pdf_urls(\n",
    "    request_session: requests.Session, resource_links: list[dict], doc_name: str\n",
    "):\n",
    "    \"\"\"Extract PDF URLs from each resource page.\"\"\"\n",
    "    for i, resource in enumerate(tqdm(resource_links, desc=\"Processing resources\")):\n",
    "        pdf_page = request_session.get(resource[\"href\"])\n",
    "        pdf_page.raise_for_status()\n",
    "        pdf_soup = BeautifulSoup(pdf_page.text, \"html.parser\")\n",
    "        pdf_url_tag = pdf_soup.find(\"a\", class_=\"resource-url-analytics\")\n",
    "\n",
    "        if pdf_url_tag and \"href\" in pdf_url_tag.attrs:\n",
    "            resource[\"url\"] = pdf_url_tag[\"href\"]\n",
    "            resource[\"filename\"] = f\"pdf_{doc_name}_0{i}.pdf\"\n",
    "\n",
    "        resource.pop(\"href\", None)\n",
    "\n",
    "    return list(filter(lambda x: x.get(\"url\", \"\").endswith(\".pdf\"), resource_links))\n",
    "\n",
    "\n",
    "def save_metadata(resource_links, output_path):\n",
    "    \"\"\"Save resource metadata to a CSV file.\"\"\"\n",
    "    df = pd.DataFrame(resource_links)\n",
    "    df.to_csv(output_path, index=False)\n",
    "    return df\n",
    "\n",
    "\n",
    "def download_pdfs(resource_links, save_path):\n",
    "    \"\"\"Download PDFs from the extracted links.\"\"\"\n",
    "    for item in tqdm(resource_links, desc=\"Downloading PDFs\"):\n",
    "        download_pdf(url=item[\"url\"], save_path=save_path)\n",
    "\n",
    "\n",
    "def get_multiple_pdf_from_gd_catalog(web_url, mate_save_path):\n",
    "    # Fetch and process resource links\n",
    "    resource_links = fetch_resource_links(web_url)\n",
    "    resource_links = extract_pdf_urls(resource_links)\n",
    "\n",
    "    # Save metadata and download PDFs\n",
    "    save_metadata(resource_links, mate_save_path)"
   ]
  },
  {
   "cell_type": "code",
   "execution_count": null,
   "id": "93bd3349",
   "metadata": {},
   "outputs": [],
   "source": []
  },
  {
   "cell_type": "markdown",
   "id": "82983be4-316c-43df-8457-0fdea9c8f7e7",
   "metadata": {},
   "source": [
    "# การประมงปลากะตักในอ่าวไทย"
   ]
  },
  {
   "cell_type": "markdown",
   "id": "7a4ba6b1",
   "metadata": {},
   "source": [
    "ready"
   ]
  },
  {
   "cell_type": "code",
   "execution_count": null,
   "id": "72868c50-8c97-4ebd-b58e-206ad709a08d",
   "metadata": {},
   "outputs": [],
   "source": [
    "title = \"การประมงปลากะตักในอ่าวไทย\"\n",
    "url = \"https://opendata.nesdc.go.th/dataset/7cb4549b-6efa-43c6-868d-612acaf06c5b/resource/765af6b1-2697-4a18-8382-0d750ff8f4e0/download/09-.pdf\"\n",
    "source = \"Open-D\"\n",
    "license = \"Open Government\"\n",
    "\n",
    "encoded_name = string_to_code(title)\n",
    "filename = f\"pdf_{encoded_name}.pdf\"\n",
    "print(f\"filename: {filename}\")\n",
    "\n",
    "pdf_save_path = os.path.join(BASE_PATH_SAVE, filename)\n",
    "meta_save_path = os.path.join(\n",
    "    BASE_PATH_SAVE_META, filename.rstrip(\".pdf\") + \"_meta.csv\"\n",
    ")\n",
    "\n",
    "command = [\"wget\", url, \"-O\", pdf_save_path, \"-q\", \"--no-check-certificate\"]\n",
    "get_pdf_and_save_meta(title, url, source, license, filename, command, meta_save_path)"
   ]
  },
  {
   "cell_type": "code",
   "execution_count": null,
   "id": "14ddd216",
   "metadata": {},
   "outputs": [],
   "source": [
    "# remove_file(pdf_save_path)"
   ]
  },
  {
   "cell_type": "code",
   "execution_count": null,
   "id": "69fbb61c",
   "metadata": {},
   "outputs": [],
   "source": []
  },
  {
   "cell_type": "markdown",
   "id": "682f9a4f-58ff-459c-a27f-ff02b225fc9e",
   "metadata": {},
   "source": [
    "# รวมบทคัดย่อ งานวิจัยพัฒนาที่อยู่อาศัยและเมือง การเคหะแห่งชาติ"
   ]
  },
  {
   "cell_type": "code",
   "execution_count": null,
   "id": "44fea8cf-1b62-4a40-9bbb-c227e21d51fb",
   "metadata": {},
   "outputs": [],
   "source": [
    "# !wget -O \"../pdf_documents_tmp/รวมบทคัดย่องานวิจัยพัฒนาที่อยู่อาศัยและเมืองการเคหะแห่งชาติ.pdf\" \"https://opendata.nesdc.go.th/dataset/867ef9e5-2522-45a6-8204-06551cfbc8de/resource/3c2ea193-2dad-4092-b795-0dc5acec929c/download/-.pdf\""
   ]
  },
  {
   "cell_type": "markdown",
   "id": "82475ecc",
   "metadata": {},
   "source": [
    "ready"
   ]
  },
  {
   "cell_type": "code",
   "execution_count": null,
   "id": "d7f51190-5c09-44de-9556-64ef729238cc",
   "metadata": {},
   "outputs": [],
   "source": [
    "title = \"รวมบทคัดย่อ งานวิจัยพัฒนาที่อยู่อาศัยและเมือง การเคหะแห่งชาติ\"\n",
    "url = \"https://opendata.nesdc.go.th/dataset/867ef9e5-2522-45a6-8204-06551cfbc8de/resource/3c2ea193-2dad-4092-b795-0dc5acec929c/download/-.pdf\"\n",
    "source = \"Open-D\"\n",
    "license = \"Open Government\"\n",
    "\n",
    "encoded_name = string_to_code(title)\n",
    "filename = f\"pdf_{encoded_name}.pdf\"\n",
    "print(f\"filename: {filename}\")\n",
    "\n",
    "pdf_save_path = os.path.join(BASE_PATH_SAVE, filename)\n",
    "meta_save_path = os.path.join(\n",
    "    BASE_PATH_SAVE_META, filename.rstrip(\".pdf\") + \"_meta.csv\"\n",
    ")\n",
    "\n",
    "command = [\"wget\", url, \"-O\", pdf_save_path, \"-q\", \"--no-check-certificate\"]\n",
    "get_pdf_and_save_meta(title, url, source, license, filename, command, meta_save_path)"
   ]
  },
  {
   "cell_type": "code",
   "execution_count": null,
   "id": "0addfbe6",
   "metadata": {},
   "outputs": [],
   "source": [
    "# remove_file(pdf_save_path)"
   ]
  },
  {
   "cell_type": "code",
   "execution_count": null,
   "id": "0776c9c3",
   "metadata": {},
   "outputs": [],
   "source": []
  },
  {
   "cell_type": "markdown",
   "id": "2cb2b34f-79f4-4e1a-9ae8-f5b95e8b6c30",
   "metadata": {},
   "source": [
    "# รวมบทคัดย่อ งานวิจัยพัฒนาที่อยู่อาศัยและเมือง การเคหะแห่งชาติ พ.ศ. 2547 - 2560"
   ]
  },
  {
   "cell_type": "code",
   "execution_count": null,
   "id": "7161b855-3717-4372-b266-80b21c670e8d",
   "metadata": {},
   "outputs": [],
   "source": [
    "# !wget -O \"../pdf_documents/รวมบทคัดย่องานวิจัยพัฒนาที่อยู่อาศัยและเมืองการเคหะแห่งชาติ2547-2560.pdf\" \"https://opendata.nesdc.go.th/dataset/28248759-f2ef-4e2f-b0c2-38417e6598e1/resource/14d8efe8-42ee-44cf-bbea-5afd89b189d5/download/-.pdf\""
   ]
  },
  {
   "cell_type": "markdown",
   "id": "ad24a9d0",
   "metadata": {},
   "source": [
    "ready"
   ]
  },
  {
   "cell_type": "code",
   "execution_count": null,
   "id": "e6bf735d",
   "metadata": {},
   "outputs": [],
   "source": [
    "title = \"รวมบทคัดย่อ งานวิจัยพัฒนาที่อยู่อาศัยและเมือง การเคหะแห่งชาติ พ.ศ. 2547 - 2560\"\n",
    "url = \"https://opendata.nesdc.go.th/dataset/28248759-f2ef-4e2f-b0c2-38417e6598e1/resource/14d8efe8-42ee-44cf-bbea-5afd89b189d5/download/-.pdf\"\n",
    "source = \"Open-D\"\n",
    "license = \"Open Government\"\n",
    "\n",
    "encoded_name = string_to_code(title)\n",
    "filename = f\"pdf_{encoded_name}.pdf\"\n",
    "print(f\"filename: {filename}\")\n",
    "\n",
    "pdf_save_path = os.path.join(BASE_PATH_SAVE, filename)\n",
    "meta_save_path = os.path.join(\n",
    "    BASE_PATH_SAVE_META, filename.rstrip(\".pdf\") + \"_meta.csv\"\n",
    ")\n",
    "\n",
    "command = [\"wget\", url, \"-O\", pdf_save_path, \"-q\", \"--no-check-certificate\"]\n",
    "get_pdf_and_save_meta(title, url, source, license, filename, command, meta_save_path)"
   ]
  },
  {
   "cell_type": "code",
   "execution_count": null,
   "id": "1ec7d1fe",
   "metadata": {},
   "outputs": [],
   "source": [
    "# remove_file(pdf_save_path)"
   ]
  },
  {
   "cell_type": "code",
   "execution_count": null,
   "id": "be4b6674-4b2c-4c1e-b877-5a8bab87247a",
   "metadata": {},
   "outputs": [],
   "source": []
  },
  {
   "cell_type": "markdown",
   "id": "2990000d-5621-49de-82c3-85e7222befbb",
   "metadata": {},
   "source": [
    "# การพัฒนาคลังเอกสารดิจิทัลระบบเปิดด้วยโอเพนซอร์สซอฟต์แวร์ Drupal"
   ]
  },
  {
   "cell_type": "code",
   "execution_count": null,
   "id": "8242b952-7c90-4887-85e5-aef6f5b896fa",
   "metadata": {},
   "outputs": [],
   "source": [
    "!wget -O \"../pdf_documents/การพัฒนาคลังเอกสารดิจิทัลระบบเปิดด้วยโอเพนซอร์สซอฟต์แวร์Drupal.pdf\" \"https://oer.learn.in.th/search_detail/ZipDownload/11164\""
   ]
  },
  {
   "cell_type": "markdown",
   "id": "c780b969",
   "metadata": {},
   "source": [
    "ready"
   ]
  },
  {
   "cell_type": "code",
   "execution_count": null,
   "id": "dd71cb1b",
   "metadata": {},
   "outputs": [],
   "source": [
    "title = \"การพัฒนาคลังเอกสารดิจิทัลระบบเปิดด้วยโอเพนซอร์สซอฟต์แวร์ Drupal\"\n",
    "url = \"https://oer.learn.in.th/search_detail/ZipDownload/11164\"\n",
    "source = \"คลังทรัพยากรการศึกษาแบบเปิด\"\n",
    "license = \"ให้เผยแพร่-ดัดแปลง-โดยต้องระบุที่มา 3.0 Thailand\"\n",
    "\n",
    "encoded_name = string_to_code(title)\n",
    "filename = f\"pdf_{encoded_name}.pdf\"\n",
    "print(f\"filename: {filename}\")\n",
    "\n",
    "pdf_save_path = os.path.join(BASE_PATH_SAVE, filename)\n",
    "meta_save_path = os.path.join(\n",
    "    BASE_PATH_SAVE_META, filename.rstrip(\".pdf\") + \"_meta.csv\"\n",
    ")\n",
    "\n",
    "command = [\"wget\", url, \"-O\", pdf_save_path, \"-q\"]\n",
    "get_pdf_and_save_meta(title, url, source, license, filename, command, meta_save_path)"
   ]
  },
  {
   "cell_type": "code",
   "execution_count": null,
   "id": "f485c418-dbf5-40d3-ac48-eab6afe2d65b",
   "metadata": {},
   "outputs": [],
   "source": []
  },
  {
   "cell_type": "markdown",
   "id": "f3cf4913-799a-461c-920d-549b1e514ab4",
   "metadata": {},
   "source": [
    "# คลังเอกสารดิจิทัลด้วย Omeka"
   ]
  },
  {
   "cell_type": "code",
   "execution_count": 9,
   "id": "94525082-c7eb-4e0b-9ad8-782ecb294cd1",
   "metadata": {},
   "outputs": [],
   "source": [
    "# !wget -O \"../pdf_documents/คลังเอกสารดิจิทัลด้วยOmeka.pdf\" \"https://oer.learn.in.th/search_detail/ZipDownload/1002\""
   ]
  },
  {
   "cell_type": "markdown",
   "id": "f2db8758",
   "metadata": {},
   "source": [
    "ready"
   ]
  },
  {
   "cell_type": "code",
   "execution_count": null,
   "id": "90f8c0cd",
   "metadata": {},
   "outputs": [],
   "source": [
    "title = \"คลังเอกสารดิจิทัลด้วย Omeka\"\n",
    "url = \"https://oer.learn.in.th/search_detail/ZipDownload/1002\"\n",
    "source = \"คลังทรัพยากรการศึกษาแบบเปิด\"\n",
    "license = \"ให้เผยแพร่-ดัดแปลง-โดยต้องระบุที่มา 3.0 Thailand\"\n",
    "\n",
    "encoded_name = string_to_code(title)\n",
    "filename = f\"pdf_{encoded_name}.pdf\"\n",
    "print(f\"filename: {filename}\")\n",
    "\n",
    "pdf_save_path = os.path.join(BASE_PATH_SAVE, filename)\n",
    "meta_save_path = os.path.join(\n",
    "    BASE_PATH_SAVE_META, filename.rstrip(\".pdf\") + \"_meta.csv\"\n",
    ")\n",
    "\n",
    "command = [\"wget\", url, \"-O\", pdf_save_path, \"-q\"]\n",
    "get_pdf_and_save_meta(title, url, source, license, filename, command, meta_save_path)"
   ]
  },
  {
   "cell_type": "code",
   "execution_count": null,
   "id": "eebfeebd-879f-4aa2-afc4-4968cc0c6472",
   "metadata": {},
   "outputs": [],
   "source": []
  },
  {
   "cell_type": "markdown",
   "id": "2ed3feba-878a-4efb-a879-e149ff975e56",
   "metadata": {},
   "source": [
    "# โครงร่างวิจัย (ฉบับย่อ) การเพิ่มประสิทธิภาพไทยต่อการเพิ่มมูลค่าการค้าชายแดน:กัมพูชา สปป.ลาว เมียนมา"
   ]
  },
  {
   "cell_type": "markdown",
   "id": "4556ff8d-95db-48fd-96ec-19beb213392d",
   "metadata": {},
   "source": [
    "error <br>\n",
    "--2024-12-30 07:09:20--  https://catalog.neda.or.th/dataset/8bb91112-84b9-41c0-bd67-f77841892126/resource/beddda0a-26da-46a4-bd40-3015266a288f/download/1-_.pdf\n",
    "Resolving catalog.neda.or.th (catalog.neda.or.th)... failed: Temporary failure in name resolution.\n",
    "wget: unable to resolve host address ‘catalog.neda.or.th’ <br>\n",
    "\n",
    "Opt for manual donwload"
   ]
  },
  {
   "cell_type": "code",
   "execution_count": 11,
   "id": "17d14da7-8519-4398-a753-91c0dabf5ab1",
   "metadata": {},
   "outputs": [],
   "source": [
    "# !(wget -O \"../pdf_documents/ฉบับย่อ_การเพิ่มประสิทธิภาพไทยต่อการเพิ่มมูลค่าการค้าชายแดน.pdf\" \\\n",
    "#   \"https://catalog.neda.or.th/dataset/8bb91112-84b9-41c0-bd67-f77841892126/resource/beddda0a-26da-46a4-bd40-3015266a288f/download/1-_.pdf\")"
   ]
  },
  {
   "cell_type": "markdown",
   "id": "d6930ab4",
   "metadata": {},
   "source": [
    "ready"
   ]
  },
  {
   "cell_type": "code",
   "execution_count": null,
   "id": "e26119c2",
   "metadata": {},
   "outputs": [],
   "source": [
    "title = (\n",
    "    \"โครงร่างวิจัย (ฉบับย่อ) การเพิ่มประสิทธิภาพไทยต่อการเพิ่มมูลค่าการค้าชายแดน:กัมพูชา สปป.ลาว เมียนมา\"\n",
    ")\n",
    "url = \"https://catalog.neda.or.th/dataset/8bb91112-84b9-41c0-bd67-f77841892126/resource/beddda0a-26da-46a4-bd40-3015266a288f/download/1-_.pdf\"\n",
    "source = \"Goverment data catalog smart plus\"\n",
    "license = \"Open Data Common\"\n",
    "\n",
    "encoded_name = string_to_code(title)\n",
    "filename = f\"pdf_{encoded_name}.pdf\"\n",
    "print(f\"filename: {filename}\")\n",
    "\n",
    "pdf_save_path = os.path.join(BASE_PATH_SAVE, filename)\n",
    "meta_save_path = os.path.join(\n",
    "    BASE_PATH_SAVE_META, filename.rstrip(\".pdf\") + \"_meta.csv\"\n",
    ")\n",
    "\n",
    "command = [\"wget\", url, \"-O\", pdf_save_path, \"-q\", \"--no-check-certificate\"]\n",
    "get_pdf_and_save_meta(title, url, source, license, filename, command, meta_save_path)"
   ]
  },
  {
   "cell_type": "code",
   "execution_count": null,
   "id": "fab0dea3",
   "metadata": {},
   "outputs": [],
   "source": [
    "# remove_file(pdf_save_path)"
   ]
  },
  {
   "cell_type": "code",
   "execution_count": null,
   "id": "dad134f5-643f-4219-86c5-c1890c388ea3",
   "metadata": {},
   "outputs": [],
   "source": []
  },
  {
   "cell_type": "markdown",
   "id": "e2b5e980-fecf-44de-9ac2-645c4793c23b",
   "metadata": {},
   "source": [
    "# องค์ความรู้ด้านการอนุรักษ์และจัดการต้นน้ำ "
   ]
  },
  {
   "cell_type": "code",
   "execution_count": null,
   "id": "99e3cdb2-4630-4cbc-a135-878deee8b9ef",
   "metadata": {
    "jupyter": {
     "source_hidden": true
    }
   },
   "outputs": [],
   "source": [
    "# !(wget --no-check-certificate -O \\\n",
    "#   \"../pdf_documents/tmp.pdf\" \\\n",
    "#   \"https://catalog.dnp.go.th/dataset/52cbb6de-0e1b-4240-81f7-2ee02fbf3bed/resource/add851e5-769b-4eb1-8e99-4caa7bd136e8/download/r085101.pdf\")"
   ]
  },
  {
   "cell_type": "code",
   "execution_count": null,
   "id": "ceac672c-b4b3-4a09-939e-53baf27e2587",
   "metadata": {},
   "outputs": [],
   "source": [
    "web_url = \"https://gdcatalog.go.th/dataset/gdpublish-67-dnp08-21-01\"\n",
    "\n",
    "# Use a session to reuse the TCP connection for faster requests\n",
    "session = requests.Session()\n",
    "\n",
    "# Fetch and parse the main page\n",
    "response = session.get(web_url)\n",
    "response.raise_for_status()\n",
    "soup = BeautifulSoup(response.text, \"html.parser\")\n",
    "\n",
    "# Extract resource links with titles\n",
    "base_url = \"https://gdcatalog.go.th\"\n",
    "resources_section = soup.find(\"section\", id=\"dataset-resources\")\n",
    "resource_links = [\n",
    "    {\n",
    "        \"title\": a[\"title\"].strip(),\n",
    "        \"href\": base_url + a[\"href\"],\n",
    "        \"source\": \"Goverment data catalog smart plus\",\n",
    "        \"license\": \"Open Data Common\",\n",
    "    }\n",
    "    for a in resources_section.find_all(\"a\", class_=\"heading\")\n",
    "]\n",
    "\n",
    "# Process each resource to extract the PDF URL\n",
    "for i, resource in enumerate(tqdm(resource_links, desc=\"Processing resources\")):\n",
    "    pdf_page = session.get(resource[\"href\"])\n",
    "    pdf_page.raise_for_status()\n",
    "    pdf_soup = BeautifulSoup(pdf_page.text, \"html.parser\")\n",
    "    pdf_url = pdf_soup.find(\"a\", class_=\"resource-url-analytics\")[\"href\"]\n",
    "    resource[\"url\"] = pdf_url\n",
    "    resource[\"filename\"] = f\"pdf_องค์ความรู้ด้านการอนุรักษ์และจัดการต้นน้ำ_0{i}.pdf\"\n",
    "    resource.pop(\"href\", None)"
   ]
  },
  {
   "cell_type": "code",
   "execution_count": null,
   "id": "842687c9",
   "metadata": {},
   "outputs": [],
   "source": [
    "resource_links[:3]"
   ]
  },
  {
   "cell_type": "code",
   "execution_count": 11,
   "id": "23f765f0-e99e-4800-a5b2-1921644e4dde",
   "metadata": {},
   "outputs": [],
   "source": [
    "pd.DataFrame(resource_links).to_csv(\n",
    "    \"../pdf_documents_meta_tmp/pdf_องค์ความรู้ด้านการอนุรักษ์และจัดการต้นน้ำ.csv\", index=False\n",
    ")"
   ]
  },
  {
   "cell_type": "code",
   "execution_count": null,
   "id": "5a24ff6d-8112-453b-96a1-c52db29648a8",
   "metadata": {},
   "outputs": [],
   "source": [
    "for item in tqdm(resource_links, desc=\"donwloading pdf \"):\n",
    "    download_pdf(\n",
    "        url=item[\"url\"], save_path=os.path.join(BASE_PATH_SAVE, item[\"filename\"])\n",
    "    )"
   ]
  },
  {
   "cell_type": "code",
   "execution_count": null,
   "id": "f223fa34-36c2-4f6a-8d44-583fe10eee2b",
   "metadata": {},
   "outputs": [],
   "source": []
  },
  {
   "cell_type": "markdown",
   "id": "8e279b5e-af36-436f-953c-c63f44ce0a56",
   "metadata": {},
   "source": [
    "# โครงร่างวิจัย (ฉบับเต็ม) พลวัตของจีน: กรณีศึกษาการให้ความร่วมมือเพื่อพัฒนาอย่างเป็นทางการของ สปป.ลาว "
   ]
  },
  {
   "cell_type": "code",
   "execution_count": 17,
   "id": "512272c4-c1ad-47af-aeb6-290c5552c184",
   "metadata": {},
   "outputs": [],
   "source": [
    "# !wget -O \"../pdf_documents_tmp/การศึกษาพลวัตของจีน.pdf\" \"https://catalog.neda.or.th/dataset/246abcc2-dc23-4431-88cf-c56cfecdeb8f/resource/30b18057-8186-47cd-8b11-9ef9b1b82881/download/2-_.pdf\""
   ]
  },
  {
   "cell_type": "markdown",
   "id": "b65417f0",
   "metadata": {},
   "source": [
    "ready"
   ]
  },
  {
   "cell_type": "code",
   "execution_count": null,
   "id": "16f7ff2e",
   "metadata": {},
   "outputs": [],
   "source": [
    "title = \"โครงร่างวิจัย (ฉบับเต็ม) พลวัตของจีน: กรณีศึกษาการให้ความร่วมมือเพื่อพัฒนาอย่างเป็นทางการของ สปป.ลาว\"\n",
    "url = \"https://catalog.neda.or.th/dataset/246abcc2-dc23-4431-88cf-c56cfecdeb8f/resource/30b18057-8186-47cd-8b11-9ef9b1b82881/download/2-_.pdf\"\n",
    "source = \"Goverment data catalog smart plus\"\n",
    "license = \"Open Data Common\"\n",
    "\n",
    "encoded_name = string_to_code(title)\n",
    "filename = f\"pdf_{encoded_name}.pdf\"\n",
    "print(f\"filename: {filename}\")\n",
    "\n",
    "pdf_save_path = os.path.join(BASE_PATH_SAVE, filename)\n",
    "meta_save_path = os.path.join(\n",
    "    BASE_PATH_SAVE_META, filename.rstrip(\".pdf\") + \"_meta.csv\"\n",
    ")\n",
    "\n",
    "command = [\"wget\", url, \"-O\", pdf_save_path, \"-q\", \"--no-check-certificate\"]\n",
    "get_pdf_and_save_meta(title, url, source, license, filename, command, meta_save_path)"
   ]
  },
  {
   "cell_type": "code",
   "execution_count": null,
   "id": "4f624499",
   "metadata": {},
   "outputs": [],
   "source": [
    "# remove_file(pdf_save_path); remove_file(meta_save_path);"
   ]
  },
  {
   "cell_type": "code",
   "execution_count": null,
   "id": "4add3dda-e4a2-4c54-a52f-90d8ef88ee96",
   "metadata": {},
   "outputs": [],
   "source": []
  },
  {
   "cell_type": "markdown",
   "id": "ce1f06a5-f51a-4c33-b2c9-07459823282e",
   "metadata": {},
   "source": [
    "# โครงร่างวิจัย (ฉบับเต็ม) การเพิ่มประสิทธิภาพไทยต่อการเพิ่มมูลค่าการค้าชายแดน: กัมพูชา สปป.ลาว เมียนมา "
   ]
  },
  {
   "cell_type": "code",
   "execution_count": null,
   "id": "db92a6d4-31a3-4fc8-bd83-0a18f4826fdd",
   "metadata": {},
   "outputs": [],
   "source": [
    "# !wget -O \"../pdf_documents/ฉบับเต็ม_การเพิ่มประสิทธิภาพไทยต่อการเพิ่มมูลค่าการค้าชายแดน.pdf\" \"https://catalog.neda.or.th/dataset/246abcc2-dc23-4431-88cf-c56cfecdeb8f/resource/30b18057-8186-47cd-8b11-9ef9b1b82881/download/2-_.pdf\""
   ]
  },
  {
   "cell_type": "markdown",
   "id": "eb6561df",
   "metadata": {},
   "source": [
    "ready"
   ]
  },
  {
   "cell_type": "code",
   "execution_count": null,
   "id": "b5a70bf8",
   "metadata": {},
   "outputs": [],
   "source": [
    "title = \"โครงร่างวิจัย (ฉบับเต็ม) การเพิ่มประสิทธิภาพไทยต่อการเพิ่มมูลค่าการค้าชายแดน: กัมพูชา สปป.ลาว เมียนมา\"\n",
    "url = \"https://catalog.neda.or.th/dataset/6a7d9d79-bc02-4720-ba0b-49002fa13bc9/resource/ddc869e9-b40a-4a11-86e2-4a4d6f4dfb06/download/1-_.pdf\"\n",
    "source = \"Goverment data catalog smart plus\"\n",
    "license = \"Open Data Common\"\n",
    "\n",
    "encoded_name = string_to_code(title)\n",
    "filename = f\"pdf_{encoded_name + 'abc'}.pdf\"\n",
    "print(f\"filename: {filename}\")\n",
    "\n",
    "pdf_save_path = os.path.join(BASE_PATH_SAVE, filename)\n",
    "meta_save_path = os.path.join(\n",
    "    BASE_PATH_SAVE_META, filename.rstrip(\".pdf\") + \"_meta.csv\"\n",
    ")\n",
    "\n",
    "command = [\"wget\", url, \"-O\", pdf_save_path, \"-q\", \"--no-check-certificate\", \"-nc\"]\n",
    "get_pdf_and_save_meta(title, url, source, license, filename, command, meta_save_path)"
   ]
  },
  {
   "cell_type": "code",
   "execution_count": null,
   "id": "f2114716",
   "metadata": {},
   "outputs": [],
   "source": [
    "# remove_file(pdf_save_path)"
   ]
  },
  {
   "cell_type": "code",
   "execution_count": null,
   "id": "74b032b5",
   "metadata": {},
   "outputs": [],
   "source": []
  },
  {
   "cell_type": "markdown",
   "id": "ff88b627-8a13-49ab-989a-d763c6d4b0bc",
   "metadata": {},
   "source": [
    "# คำแถลงนโนบายรัฐบาล"
   ]
  },
  {
   "cell_type": "code",
   "execution_count": 21,
   "id": "f07f492e-c675-49f9-9757-d0a47441bb98",
   "metadata": {},
   "outputs": [],
   "source": [
    "# !wget \"https://www.thaigov.go.th/uploads/thumbnail/statement/2025/01/_20250102092556000000.pdf\" -O \"../pdf_documents/คำแถลงนโนบายรัฐบาล.pdf\""
   ]
  },
  {
   "cell_type": "markdown",
   "id": "512d7d72",
   "metadata": {},
   "source": [
    "ready"
   ]
  },
  {
   "cell_type": "code",
   "execution_count": null,
   "id": "7b0769eb",
   "metadata": {},
   "outputs": [],
   "source": [
    "title = \"คำแถลงนโนบายรัฐบาล\"\n",
    "url = \"https://www.thaigov.go.th/uploads/thumbnail/statement/2025/01/_20250102092556000000.pdf\"\n",
    "source = \"Royal Thai Goverment\"\n",
    "license = \"\"\n",
    "\n",
    "encoded_name = string_to_code(title)\n",
    "filename = f\"pdf_{encoded_name}.pdf\"\n",
    "print(f\"filename: {filename}\")\n",
    "\n",
    "pdf_save_path = os.path.join(BASE_PATH_SAVE, filename)\n",
    "meta_save_path = os.path.join(\n",
    "    BASE_PATH_SAVE_META, filename.rstrip(\".pdf\") + \"_meta.csv\"\n",
    ")\n",
    "\n",
    "command = [\"wget\", url, \"-O\", pdf_save_path, \"-q\", \"--no-check-certificate\"]\n",
    "get_pdf_and_save_meta(title, url, source, license, filename, command, meta_save_path)"
   ]
  },
  {
   "cell_type": "code",
   "execution_count": null,
   "id": "60f40474",
   "metadata": {},
   "outputs": [],
   "source": [
    "# remove_file(pdf_save_path); remove_file(meta_save_path)"
   ]
  },
  {
   "cell_type": "code",
   "execution_count": null,
   "id": "19844941",
   "metadata": {},
   "outputs": [],
   "source": []
  },
  {
   "cell_type": "markdown",
   "id": "d893e9cb",
   "metadata": {},
   "source": [
    "# องค์ความรู้และผลการดำเนินงานสำคัญของศูนย์ศึกษาและพัฒนาป่าไม้ "
   ]
  },
  {
   "cell_type": "code",
   "execution_count": null,
   "id": "ae41dbaf",
   "metadata": {},
   "outputs": [],
   "source": [
    "web_url = \"https://gdcatalog.go.th/dataset/gdpublish-67-dnp40-11-02\"\n",
    "\n",
    "# Use a session to reuse the TCP connection for faster requests\n",
    "session = requests.Session()\n",
    "\n",
    "# Fetch and parse the main page\n",
    "response = session.get(web_url)\n",
    "response.raise_for_status()\n",
    "soup = BeautifulSoup(response.text, \"html.parser\")\n",
    "\n",
    "# Extract resource links with titles\n",
    "base_url = \"https://gdcatalog.go.th\"\n",
    "resources_section = soup.find(\"section\", id=\"dataset-resources\")\n",
    "resource_links = [\n",
    "    {\n",
    "        \"title\": a[\"title\"].strip(),\n",
    "        \"href\": base_url + a[\"href\"],\n",
    "        \"source\": \"Goverment data catalog smart plus\",\n",
    "        \"license\": \"Open Data Common\",\n",
    "    }\n",
    "    for a in resources_section.find_all(\"a\", class_=\"heading\")\n",
    "]\n",
    "\n",
    "# Process each resource to extract the PDF URL\n",
    "for i, resource in enumerate(tqdm(resource_links, desc=\"Processing resources\")):\n",
    "    pdf_page = session.get(resource[\"href\"])\n",
    "    pdf_page.raise_for_status()\n",
    "    pdf_soup = BeautifulSoup(pdf_page.text, \"html.parser\")\n",
    "    pdf_url = pdf_soup.find(\"a\", class_=\"resource-url-analytics\")[\"href\"]\n",
    "    resource[\"url\"] = pdf_url\n",
    "    resource[\"filename\"] = (\n",
    "        f\"pdf_องค์ความรู้และผลการดำเนินงานสำคัญของศูนย์ศึกษาและพัฒนาป่าไม้_0{i}.pdf\"\n",
    "    )\n",
    "    resource.pop(\"href\", None)"
   ]
  },
  {
   "cell_type": "code",
   "execution_count": null,
   "id": "dddc2e72",
   "metadata": {},
   "outputs": [],
   "source": [
    "resource_links"
   ]
  },
  {
   "cell_type": "code",
   "execution_count": 15,
   "id": "c2ce1e1c",
   "metadata": {},
   "outputs": [],
   "source": [
    "pd.DataFrame(resource_links).to_csv(\n",
    "    \"../pdf_documents_meta_tmp/pdf_องค์ความรู้และผลการดำเนินงานสำคัญของศูนย์ศึกษาและพัฒนาป่าไม้.csv\",\n",
    "    index=False,\n",
    ")"
   ]
  },
  {
   "cell_type": "code",
   "execution_count": null,
   "id": "2a8782bc",
   "metadata": {},
   "outputs": [],
   "source": [
    "for item in tqdm(resource_links, desc=\"donwloading pdf \"):\n",
    "    download_pdf(\n",
    "        url=item[\"url\"], save_path=os.path.join(BASE_PATH_SAVE, item[\"filename\"])\n",
    "    )"
   ]
  },
  {
   "cell_type": "code",
   "execution_count": null,
   "id": "e1d77875",
   "metadata": {},
   "outputs": [],
   "source": []
  },
  {
   "cell_type": "markdown",
   "id": "61241078",
   "metadata": {},
   "source": [
    "# แผนปฏิบัติการการคุ้มครองแหล่งซากดึกดําบรรพ์และซากดึกดําบรรพ์ "
   ]
  },
  {
   "cell_type": "code",
   "execution_count": 26,
   "id": "f396af57",
   "metadata": {},
   "outputs": [],
   "source": [
    "# !wget \"https://data.dmr.go.th/dataset/0e30821e-dafe-4848-b7b7-74339ec2a813/resource/fc5db2f4-3799-46b6-ad5a-dcf0a7a5a905/download/-2566-2570.pdf\" -O \"../pdf_documents/แผนปฏิบัติการการคุ้มครองแหล่งซากดึกดําบรรพ์และซากดึกดําบรรพ์.pdf\""
   ]
  },
  {
   "cell_type": "markdown",
   "id": "720fc2ed",
   "metadata": {},
   "source": [
    "ready"
   ]
  },
  {
   "cell_type": "code",
   "execution_count": null,
   "id": "21a7a204",
   "metadata": {},
   "outputs": [],
   "source": [
    "title = \"แผนปฏิบัติการการคุ้มครองแหล่งซากดึกดําบรรพ์และซากดึกดําบรรพ์\"\n",
    "url = \"https://data.dmr.go.th/dataset/0e30821e-dafe-4848-b7b7-74339ec2a813/resource/fc5db2f4-3799-46b6-ad5a-dcf0a7a5a905/download/-2566-2570.pdf\"\n",
    "source = \"data.go.th\"\n",
    "license = \"Creative Commons Attributions\"\n",
    "\n",
    "encoded_name = string_to_code(title)\n",
    "filename = f\"pdf_{encoded_name}.pdf\"\n",
    "print(f\"filename: {filename}\")\n",
    "\n",
    "pdf_save_path = os.path.join(BASE_PATH_SAVE, filename)\n",
    "meta_save_path = os.path.join(\n",
    "    BASE_PATH_SAVE_META, filename.rstrip(\".pdf\") + \"_meta.csv\"\n",
    ")\n",
    "\n",
    "command = [\"wget\", url, \"-O\", pdf_save_path, \"-q\"]\n",
    "get_pdf_and_save_meta(title, url, source, license, filename, command, meta_save_path)"
   ]
  },
  {
   "cell_type": "code",
   "execution_count": null,
   "id": "0cabab3b",
   "metadata": {},
   "outputs": [],
   "source": []
  },
  {
   "cell_type": "markdown",
   "id": "1b1cbba8",
   "metadata": {},
   "source": [
    "# เอกสารเผยแพร่ด้านพฤกษศาสตร์"
   ]
  },
  {
   "cell_type": "markdown",
   "id": "156163f9",
   "metadata": {},
   "source": [
    "## หนังสือพรรณไม้สำคัญในระบบนิเวศเขาหินปูนประเทศไทย"
   ]
  },
  {
   "cell_type": "code",
   "execution_count": null,
   "id": "18e6821d",
   "metadata": {},
   "outputs": [],
   "source": [
    "# !wget --no-check-certificate \"https://catalog.dnp.go.th/dataset/818f6fe3-1576-4606-84c6-0a2d738fa97e/resource/dcc7329e-ac76-46f1-8cc3-ac0c82602bab/download/limestonebook.pdf\" -O \"../pdf_documents/หนังสือพรรณไม้สำคัญในระบบนิเวศเขาหินปูนประเทศไทย.pdf\""
   ]
  },
  {
   "cell_type": "markdown",
   "id": "cb0056a6",
   "metadata": {},
   "source": [
    "ready"
   ]
  },
  {
   "cell_type": "code",
   "execution_count": null,
   "id": "1bafd30a",
   "metadata": {},
   "outputs": [],
   "source": [
    "title = \"หนังสือพรรณไม้สำคัญในระบบนิเวศเขาหินปูนประเทศไทย\"\n",
    "url = \"https://catalog.dnp.go.th/dataset/818f6fe3-1576-4606-84c6-0a2d738fa97e/resource/dcc7329e-ac76-46f1-8cc3-ac0c82602bab/download/limestonebook.pdf\"\n",
    "source = \"data.go.th\"\n",
    "license = \"Open Data Commons\"\n",
    "\n",
    "encoded_name = string_to_code(title)\n",
    "filename = f\"pdf_{encoded_name}.pdf\"\n",
    "print(f\"filename: {filename}\")\n",
    "\n",
    "pdf_save_path = os.path.join(BASE_PATH_SAVE, filename)\n",
    "meta_save_path = os.path.join(\n",
    "    BASE_PATH_SAVE_META, filename.rstrip(\".pdf\") + \"_meta.csv\"\n",
    ")\n",
    "\n",
    "command = [\"wget\", url, \"-O\", pdf_save_path, \"-q\", \"--no-check-certificate\"]\n",
    "get_pdf_and_save_meta(title, url, source, license, filename, command, meta_save_path)"
   ]
  },
  {
   "cell_type": "code",
   "execution_count": null,
   "id": "f39d65b8",
   "metadata": {},
   "outputs": [],
   "source": []
  },
  {
   "cell_type": "markdown",
   "id": "a782af75",
   "metadata": {},
   "source": [
    "## หนังสือต้นไม้ลดฝุ่น"
   ]
  },
  {
   "cell_type": "code",
   "execution_count": 31,
   "id": "8674be1c",
   "metadata": {},
   "outputs": [],
   "source": [
    "# !wget --no-check-certificate \"https://www.dnp.go.th/botany/PDF/publications/PM25.pdf\" -O \"../pdf_documents/หนังสือต้นไม้ลดฝุ่น.pdf\""
   ]
  },
  {
   "cell_type": "markdown",
   "id": "310953ff",
   "metadata": {},
   "source": [
    "ready"
   ]
  },
  {
   "cell_type": "code",
   "execution_count": null,
   "id": "ba525f29",
   "metadata": {},
   "outputs": [],
   "source": [
    "title = \"หนังสือต้นไม้ลดฝุ่น\"\n",
    "url = \"https://www.dnp.go.th/botany/PDF/publications/PM25.pdf\"\n",
    "source = \"data.go.th\"\n",
    "license = \"Open Data Commons\"\n",
    "\n",
    "encoded_name = string_to_code(title)\n",
    "filename = f\"pdf_{encoded_name}.pdf\"\n",
    "print(f\"filename: {filename}\")\n",
    "\n",
    "pdf_save_path = os.path.join(BASE_PATH_SAVE, filename)\n",
    "meta_save_path = os.path.join(\n",
    "    BASE_PATH_SAVE_META, filename.rstrip(\".pdf\") + \"_meta.csv\"\n",
    ")\n",
    "\n",
    "command = [\"wget\", url, \"-O\", pdf_save_path, \"-q\", \"--no-check-certificate\"]\n",
    "get_pdf_and_save_meta(title, url, source, license, filename, command, meta_save_path)"
   ]
  },
  {
   "cell_type": "code",
   "execution_count": null,
   "id": "9887b7f4",
   "metadata": {},
   "outputs": [],
   "source": []
  },
  {
   "cell_type": "markdown",
   "id": "5dd96289",
   "metadata": {},
   "source": [
    "## หนังสือพืชป่าสมุนไพร"
   ]
  },
  {
   "cell_type": "code",
   "execution_count": null,
   "id": "1aec7959",
   "metadata": {},
   "outputs": [],
   "source": [
    "# !wget --no-check-certificate \"https://www.dnp.go.th/botany/PDF/publications/HerbBook.pdf\" -O \"../pdf_documents/หนังสือพืชป่าสมุนไพร.pdf\""
   ]
  },
  {
   "cell_type": "markdown",
   "id": "b336ed90",
   "metadata": {},
   "source": [
    "ready"
   ]
  },
  {
   "cell_type": "code",
   "execution_count": null,
   "id": "99d1c974",
   "metadata": {},
   "outputs": [],
   "source": [
    "title = \"หนังสือพืชป่าสมุนไพร\"\n",
    "url = \"https://www.dnp.go.th/botany/PDF/publications/HerbBook.pdf\"\n",
    "source = \"data.go.th\"\n",
    "license = \"Open Data Commons\"\n",
    "\n",
    "encoded_name = string_to_code(title)\n",
    "filename = f\"pdf_{encoded_name}.pdf\"\n",
    "print(f\"filename: {filename}\")\n",
    "\n",
    "pdf_save_path = os.path.join(BASE_PATH_SAVE, filename)\n",
    "meta_save_path = os.path.join(\n",
    "    BASE_PATH_SAVE_META, filename.rstrip(\".pdf\") + \"_meta.csv\"\n",
    ")\n",
    "\n",
    "command = [\"wget\", url, \"-O\", pdf_save_path, \"-q\", \"--no-check-certificate\"]\n",
    "get_pdf_and_save_meta(title, url, source, license, filename, command, meta_save_path)"
   ]
  },
  {
   "cell_type": "code",
   "execution_count": null,
   "id": "82ba42fe",
   "metadata": {},
   "outputs": [],
   "source": []
  },
  {
   "cell_type": "markdown",
   "id": "dd27987c",
   "metadata": {},
   "source": [
    "## หนังสือพรรณไม้ไทย-ลาว สองฝั่งโขง"
   ]
  },
  {
   "cell_type": "code",
   "execution_count": null,
   "id": "dcc76856",
   "metadata": {},
   "outputs": [],
   "source": []
  },
  {
   "cell_type": "code",
   "execution_count": null,
   "id": "aee0ce86",
   "metadata": {},
   "outputs": [],
   "source": []
  },
  {
   "cell_type": "markdown",
   "id": "25d9c488",
   "metadata": {},
   "source": [
    "# แผนแม่บทการคุ้มครองแหล่งซากดึกดำบรรพ์และซากดึกดำบรรพ์"
   ]
  },
  {
   "cell_type": "code",
   "execution_count": null,
   "id": "207de8b3",
   "metadata": {},
   "outputs": [],
   "source": [
    "# !wget \"https://data.dmr.go.th/dataset/0f830783-1894-43b7-b129-7554d4f2a933/resource/31408fed-cee7-4266-a902-fd6b39a2d7d3/download/-2566-2580.pdf\" -O \"../pdf_documents/แผนแม่บทการคุ้มครองแหล่งซากดึกดำบรรพ์และซากดึกดำบรรพ์.pdf\""
   ]
  },
  {
   "cell_type": "markdown",
   "id": "ab50d26f",
   "metadata": {},
   "source": [
    "ready"
   ]
  },
  {
   "cell_type": "code",
   "execution_count": null,
   "id": "68f1bd8a",
   "metadata": {},
   "outputs": [],
   "source": [
    "title = \"แผนแม่บทการคุ้มครองแหล่งซากดึกดำบรรพ์และซากดึกดำบรรพ์\"\n",
    "url = \"https://data.dmr.go.th/dataset/0f830783-1894-43b7-b129-7554d4f2a933/resource/31408fed-cee7-4266-a902-fd6b39a2d7d3/download/-2566-2580.pdf\"\n",
    "source = \"data.go.th\"\n",
    "license = \"Creative Commons Attributions\"\n",
    "\n",
    "encoded_name = string_to_code(title)\n",
    "filename = f\"pdf_{encoded_name}.pdf\"\n",
    "print(f\"filename: {filename}\")\n",
    "\n",
    "pdf_save_path = os.path.join(BASE_PATH_SAVE, filename)\n",
    "meta_save_path = os.path.join(\n",
    "    BASE_PATH_SAVE_META, filename.rstrip(\".pdf\") + \"_meta.csv\"\n",
    ")\n",
    "\n",
    "command = [\"wget\", url, \"-O\", pdf_save_path, \"-q\", \"--no-check-certificate\"]\n",
    "get_pdf_and_save_meta(title, url, source, license, filename, command, meta_save_path)"
   ]
  },
  {
   "cell_type": "code",
   "execution_count": null,
   "id": "e4b6392a",
   "metadata": {},
   "outputs": [],
   "source": []
  },
  {
   "cell_type": "markdown",
   "id": "11fbc17d",
   "metadata": {},
   "source": [
    "# รายงานคุณภาพชีวิตคนจังหวัดหนองคาย ปี 2562"
   ]
  },
  {
   "cell_type": "markdown",
   "id": "6cdbafbe",
   "metadata": {},
   "source": [
    "ready"
   ]
  },
  {
   "cell_type": "code",
   "execution_count": null,
   "id": "d9eca622",
   "metadata": {},
   "outputs": [],
   "source": [
    "title = \"รายงานคุณภาพชีวิตของคนหนองคายปี 2562\"\n",
    "url = \"https://data.go.th/dataset/e818f10c-e8bf-4e01-855b-70d6bf02f04f/resource/b3dfb787-eedf-401c-827a-0cd70aeb375c/download/kunnapapcheewit2562.pdf\"\n",
    "source = \"data.go.th\"\n",
    "license = \"Creative Commons Attributions\"\n",
    "\n",
    "encoded_name = string_to_code(title)\n",
    "filename = f\"pdf_{encoded_name}.pdf\"\n",
    "print(f\"filename: {filename}\")\n",
    "\n",
    "pdf_save_path = os.path.join(BASE_PATH_SAVE, filename)\n",
    "meta_save_path = os.path.join(\n",
    "    BASE_PATH_SAVE_META, filename.rstrip(\".pdf\") + \"_meta.csv\"\n",
    ")\n",
    "\n",
    "command = [\"wget\", url, \"-O\", pdf_save_path, \"-q\"]\n",
    "get_pdf_and_save_meta(title, url, source, license, filename, command, meta_save_path)"
   ]
  },
  {
   "cell_type": "code",
   "execution_count": null,
   "id": "ed2a8a55",
   "metadata": {},
   "outputs": [],
   "source": []
  },
  {
   "cell_type": "markdown",
   "id": "6d8a5ce1",
   "metadata": {},
   "source": [
    "# Booklet ชุดองค์ความรู้ ยกระดับการขายสไตล์ท่องเที่ยวโดยชุมชน\n"
   ]
  },
  {
   "cell_type": "code",
   "execution_count": null,
   "id": "78b26e3e",
   "metadata": {},
   "outputs": [],
   "source": [
    "# !wget \"https://www.dasta.or.th/uploads/file/202312/1703236058_c9a80f495848cef41f79.pdf\" -O \"../pdf_documents/Bookletชุดองค์ความรู้ยกระดับการขายสไตล์ท่องเที่ยวโดยชุมชน.pdf\"b"
   ]
  },
  {
   "cell_type": "markdown",
   "id": "7e77dea2",
   "metadata": {},
   "source": [
    "ready"
   ]
  },
  {
   "cell_type": "code",
   "execution_count": null,
   "id": "7b0041d8",
   "metadata": {},
   "outputs": [],
   "source": [
    "title = \"Booklet ชุดองค์ความรู้ ยกระดับการขายสไตล์ท่องเที่ยวโดยชุมชน\"\n",
    "url = \"https://www.dasta.or.th/uploads/file/202312/1703236058_c9a80f495848cef41f79.pdf\"\n",
    "source = \"data.go.th\"\n",
    "license = \"Creative Commons Attributions\"\n",
    "\n",
    "encoded_name = string_to_code(title)\n",
    "filename = f\"pdf_{encoded_name}.pdf\"\n",
    "print(f\"filename: {filename}\")\n",
    "\n",
    "pdf_save_path = os.path.join(BASE_PATH_SAVE, filename)\n",
    "meta_save_path = os.path.join(\n",
    "    BASE_PATH_SAVE_META, filename.rstrip(\".pdf\") + \"_meta.csv\"\n",
    ")\n",
    "\n",
    "command = [\"wget\", url, \"-O\", pdf_save_path, \"-q\"]\n",
    "get_pdf_and_save_meta(title, url, source, license, filename, command, meta_save_path)"
   ]
  },
  {
   "cell_type": "code",
   "execution_count": null,
   "id": "a48aff77",
   "metadata": {},
   "outputs": [],
   "source": []
  },
  {
   "cell_type": "markdown",
   "id": "2a9d6ff9",
   "metadata": {},
   "source": [
    "# ข้อมูลผ้าไหมลายอัตลักษณ์ท้องถิ่นที่ได้รับการพัฒนา\n"
   ]
  },
  {
   "cell_type": "markdown",
   "id": "a44beff2",
   "metadata": {},
   "source": [
    "## พัฒนาลวดลายผ้าและผลิตภัณฑ์ไหมไทย"
   ]
  },
  {
   "cell_type": "code",
   "execution_count": 37,
   "id": "b534015d",
   "metadata": {},
   "outputs": [],
   "source": [
    "# !wget \"https://qsds.go.th/newocss/wp-content/uploads/sites/74/2021/04/id-silk.pdf\" -O \"../pdf_documents/พัฒนาลวดลายผ้าและผลิตภัณฑ์ไหมไทย.pdf\""
   ]
  },
  {
   "cell_type": "markdown",
   "id": "db4f9d45",
   "metadata": {},
   "source": [
    "ready"
   ]
  },
  {
   "cell_type": "code",
   "execution_count": null,
   "id": "338935e5",
   "metadata": {},
   "outputs": [],
   "source": [
    "title = \"ข้อมูลผ้าไหมลายอัตลักษณ์ท้องถิ่นที่ได้รับการพัฒนา\"\n",
    "url = \"https://qsds.go.th/newocss/wp-content/uploads/sites/74/2021/04/id-silk.pdf\"\n",
    "source = \"data.go.th\"\n",
    "license = \"Open Data Common\"\n",
    "\n",
    "encoded_name = string_to_code(title)\n",
    "filename = f\"pdf_{encoded_name}.pdf\"\n",
    "print(f\"filename: {filename}\")\n",
    "\n",
    "pdf_save_path = os.path.join(BASE_PATH_SAVE, filename)\n",
    "meta_save_path = os.path.join(\n",
    "    BASE_PATH_SAVE_META, filename.rstrip(\".pdf\") + \"_meta.csv\"\n",
    ")\n",
    "\n",
    "command = [\"wget\", url, \"-O\", pdf_save_path, \"-q\"]\n",
    "get_pdf_and_save_meta(title, url, source, license, filename, command, meta_save_path)"
   ]
  },
  {
   "cell_type": "code",
   "execution_count": null,
   "id": "e50639f3",
   "metadata": {},
   "outputs": [],
   "source": []
  },
  {
   "cell_type": "markdown",
   "id": "c2327e1e",
   "metadata": {},
   "source": [
    "## ลวดลายผ้า หัตถกรรมเชิงเอกลักษณ์ท้องถิ่น"
   ]
  },
  {
   "cell_type": "code",
   "execution_count": null,
   "id": "b2699655",
   "metadata": {},
   "outputs": [],
   "source": [
    "# !wget \"https://qsds.go.th/newocss/wp-content/uploads/sites/74/2022/05/ID-SILK1.pdf\" -O \"../pdf_documents/ลวดลายผ้าหัตถกรรมเชิงเอกลักษณ์ท้องถิ่น.pdf\""
   ]
  },
  {
   "cell_type": "markdown",
   "id": "dcf84ea3",
   "metadata": {},
   "source": [
    "ready"
   ]
  },
  {
   "cell_type": "code",
   "execution_count": null,
   "id": "27c9e437",
   "metadata": {},
   "outputs": [],
   "source": [
    "title = \"ลวดลายผ้า หัตถกรรมเชิงเอกลักษณ์ท้องถิ่น\"\n",
    "url = \"https://qsds.go.th/newocss/wp-content/uploads/sites/74/2022/05/ID-SILK1.pdf\"\n",
    "source = \"data.go.th\"\n",
    "license = \"Open Data Common\"\n",
    "\n",
    "encoded_name = string_to_code(title)\n",
    "filename = f\"pdf_{encoded_name}.pdf\"\n",
    "print(f\"filename: {filename}\")\n",
    "\n",
    "pdf_save_path = os.path.join(BASE_PATH_SAVE, filename)\n",
    "meta_save_path = os.path.join(\n",
    "    BASE_PATH_SAVE_META, filename.rstrip(\".pdf\") + \"_meta.csv\"\n",
    ")\n",
    "\n",
    "command = [\"wget\", url, \"-O\", pdf_save_path, \"-q\"]\n",
    "get_pdf_and_save_meta(title, url, source, license, filename, command, meta_save_path)"
   ]
  },
  {
   "cell_type": "code",
   "execution_count": null,
   "id": "7a8c1e09",
   "metadata": {},
   "outputs": [],
   "source": []
  },
  {
   "cell_type": "markdown",
   "id": "bdeb6867",
   "metadata": {},
   "source": [
    "# ชุดความรู้ เรื่องGastronomy Tourism ท่องเที่ยวเชิงอาหาร"
   ]
  },
  {
   "cell_type": "code",
   "execution_count": 40,
   "id": "741e1e8f",
   "metadata": {},
   "outputs": [],
   "source": [
    "# !wget \"https://data.go.th/dataset/138b9e9e-408b-4d88-bb35-65b1f7af0e47/resource/15e5e0fa-5868-4489-85f3-9b9c11e29da3/download/gastronomy-tourism.pdf\" -O \"../pdf_documents/ชุดความรู้เรื่องGastronomyTourismท่องเที่ยวเชิงอาหาร.pdf\""
   ]
  },
  {
   "cell_type": "markdown",
   "id": "c99e3f94",
   "metadata": {},
   "source": [
    "ready"
   ]
  },
  {
   "cell_type": "code",
   "execution_count": null,
   "id": "a4780ab2",
   "metadata": {},
   "outputs": [],
   "source": [
    "title = \"ชุดความรู้ เรื่องGastronomy Tourism ท่องเที่ยวเชิงอาหาร\"\n",
    "url = \"https://data.go.th/dataset/138b9e9e-408b-4d88-bb35-65b1f7af0e47/resource/15e5e0fa-5868-4489-85f3-9b9c11e29da3/download/gastronomy-tourism.pdf\"\n",
    "source = \"data.go.th\"\n",
    "license = \"Creative Commons Attributions\"\n",
    "\n",
    "encoded_name = string_to_code(title)\n",
    "filename = f\"pdf_{encoded_name}.pdf\"\n",
    "print(f\"filename: {filename}\")\n",
    "\n",
    "pdf_save_path = os.path.join(BASE_PATH_SAVE, filename)\n",
    "meta_save_path = os.path.join(\n",
    "    BASE_PATH_SAVE_META, filename.rstrip(\".pdf\") + \"_meta.csv\"\n",
    ")\n",
    "\n",
    "command = [\"wget\", url, \"-O\", pdf_save_path, \"-q\"]\n",
    "get_pdf_and_save_meta(title, url, source, license, filename, command, meta_save_path)"
   ]
  },
  {
   "cell_type": "code",
   "execution_count": null,
   "id": "20bdda3d",
   "metadata": {},
   "outputs": [],
   "source": []
  },
  {
   "cell_type": "markdown",
   "id": "2e049974",
   "metadata": {},
   "source": [
    "# เอกสารบทสรุปเชิงนโยบายโครงการพัฒนากลไกความร่วมมือด้านอุตสาหกรรมปาล์มน้ำมันภายใต้ IMT-GT"
   ]
  },
  {
   "cell_type": "code",
   "execution_count": 42,
   "id": "ebebfab1",
   "metadata": {},
   "outputs": [],
   "source": [
    "# !wget \"https://www.itd.or.th/wp-content/uploads/2022/05/ITD65_44_01.pdf\" -O \"../pdf_documents/เอกสารบทสรุปเชิงนโยบายโครงการพัฒนากลไกความร่วมมือด้านอุตสาหกรรมปาล์มน้ำมันภายใต้IMT-GT.pdf\""
   ]
  },
  {
   "cell_type": "markdown",
   "id": "31686c91",
   "metadata": {},
   "source": [
    "ready"
   ]
  },
  {
   "cell_type": "code",
   "execution_count": null,
   "id": "3b5af651",
   "metadata": {},
   "outputs": [],
   "source": [
    "title = \"เอกสารบทสรุปเชิงนโยบายโครงการพัฒนากลไกความร่วมมือด้านอุตสาหกรรมปาล์มน้ำมันภายใต้ IMT-GT\"\n",
    "url = \"https://www.itd.or.th/wp-content/uploads/2022/05/ITD65_44_01.pdf\"\n",
    "source = \"data.go.th\"\n",
    "license = \"Open Data Common\"\n",
    "\n",
    "encoded_name = string_to_code(title)\n",
    "filename = f\"pdf_{encoded_name}.pdf\"\n",
    "print(f\"filename: {filename}\")\n",
    "\n",
    "pdf_save_path = os.path.join(BASE_PATH_SAVE, filename)\n",
    "meta_save_path = os.path.join(\n",
    "    BASE_PATH_SAVE_META, filename.rstrip(\".pdf\") + \"_meta.csv\"\n",
    ")\n",
    "\n",
    "command = [\"wget\", url, \"-O\", pdf_save_path, \"-q\"]\n",
    "get_pdf_and_save_meta(title, url, source, license, filename, command, meta_save_path)"
   ]
  },
  {
   "cell_type": "code",
   "execution_count": null,
   "id": "07ed7543",
   "metadata": {},
   "outputs": [],
   "source": []
  },
  {
   "cell_type": "markdown",
   "id": "cdbe44e6",
   "metadata": {},
   "source": [
    "# ข้อเสนอแนะเชิงนโยบายโครงการพัฒนาศักยภาพระเบียงเศรษฐกิจภาคใต้เชื่อมโยงการค้าและการลงทุนกับประตูการค้าฝั่งตะวันตก"
   ]
  },
  {
   "cell_type": "code",
   "execution_count": 44,
   "id": "62088416",
   "metadata": {},
   "outputs": [],
   "source": [
    "# !wget \"https://www.itd.or.th/wp-content/uploads/2023/03/ITD66_13_02.pdf\" -O \"../pdf_documents/ข้อเสนอแนะเชิงนโยบายโครงการพัฒนาศักยภาพระเบียงเศรษฐกิจภาคใต้.pdf\""
   ]
  },
  {
   "cell_type": "markdown",
   "id": "af1f15da",
   "metadata": {},
   "source": [
    "ready"
   ]
  },
  {
   "cell_type": "code",
   "execution_count": null,
   "id": "953a3fc9",
   "metadata": {},
   "outputs": [],
   "source": [
    "title = \"ข้อเสนอแนะเชิงนโยบายโครงการพัฒนาศักยภาพระเบียงเศรษฐกิจภาคใต้เชื่อมโยงการค้าและการลงทุนกับประตูการค้าฝั่งตะวันตก\"\n",
    "url = \"https://www.itd.or.th/wp-content/uploads/2023/03/ITD66_13_02.pdf\"\n",
    "source = \"data.go.th\"\n",
    "license = \"Open Data Common\"\n",
    "\n",
    "encoded_name = string_to_code(title)\n",
    "filename = f\"pdf_{encoded_name}.pdf\"\n",
    "print(f\"filename: {filename}\")\n",
    "\n",
    "pdf_save_path = os.path.join(BASE_PATH_SAVE, filename)\n",
    "meta_save_path = os.path.join(\n",
    "    BASE_PATH_SAVE_META, filename.rstrip(\".pdf\") + \"_meta.csv\"\n",
    ")\n",
    "\n",
    "command = [\"wget\", url, \"-O\", pdf_save_path, \"-q\"]\n",
    "get_pdf_and_save_meta(title, url, source, license, filename, command, meta_save_path)"
   ]
  },
  {
   "cell_type": "code",
   "execution_count": null,
   "id": "8121488d",
   "metadata": {},
   "outputs": [],
   "source": []
  },
  {
   "cell_type": "markdown",
   "id": "ac6cbe56",
   "metadata": {},
   "source": [
    "# ปฏิทินการจัดงานพิธี และงานวันสำคัญ ต่างๆ"
   ]
  },
  {
   "cell_type": "markdown",
   "id": "75333083",
   "metadata": {},
   "source": [
    "ready"
   ]
  },
  {
   "cell_type": "code",
   "execution_count": null,
   "id": "3674a00f",
   "metadata": {},
   "outputs": [],
   "source": [
    "title = \"ปฏิทินการจัดงานพิธี และงานวันสำคัญ ต่างๆ\"\n",
    "url = \"https://data.go.th/dataset/7def714b-04ba-47e7-8a69-b7957d1ba6eb/resource/8d74c61d-80f7-44ab-a59f-6109da46a195/download/x-.pdf\"\n",
    "source = \"data.go.th\"\n",
    "license = \"Creative Commons Attributions\"\n",
    "\n",
    "encoded_name = string_to_code(title)\n",
    "filename = f\"pdf_{encoded_name}.pdf\"\n",
    "print(f\"filename: {filename}\")\n",
    "\n",
    "pdf_save_path = os.path.join(BASE_PATH_SAVE, filename)\n",
    "meta_save_path = os.path.join(\n",
    "    BASE_PATH_SAVE_META, filename.rstrip(\".pdf\") + \"_meta.csv\"\n",
    ")\n",
    "\n",
    "command = [\"wget\", url, \"-O\", pdf_save_path, \"-q\"]\n",
    "get_pdf_and_save_meta(title, url, source, license, filename, command, meta_save_path)"
   ]
  },
  {
   "cell_type": "code",
   "execution_count": null,
   "id": "121f03e7",
   "metadata": {},
   "outputs": [],
   "source": []
  },
  {
   "cell_type": "markdown",
   "id": "59ff2dac",
   "metadata": {},
   "source": [
    "# การปฏิบัติงานการจัดทำข้อมูลปริมาณการผลิตสินค้าเกษตรที่สำคัญ (มันสำปะหลัง)\n"
   ]
  },
  {
   "cell_type": "markdown",
   "id": "f940f1d9",
   "metadata": {},
   "source": [
    "ready"
   ]
  },
  {
   "cell_type": "code",
   "execution_count": null,
   "id": "cff3f4e0",
   "metadata": {},
   "outputs": [],
   "source": [
    "title = \"การปฏิบัติงานการจัดทำข้อมูลปริมาณการผลิตสินค้าเกษตรที่สำคัญ (มันสำปะหลัง)\"\n",
    "url = \"https://www.oae.go.th/assets/portals/1/files/oaegdcatalog/other/13-01%E0%B8%84%E0%B8%B9%E0%B9%88%E0%B8%A1%E0%B8%B7%E0%B8%AD%E0%B8%AA%E0%B8%B3%E0%B8%A3%E0%B8%A7%E0%B8%88%E0%B8%A1%E0%B8%B1%E0%B8%99%E0%B8%AA%E0%B8%B3%E0%B8%9B%E0%B8%B0%E0%B8%AB%E0%B8%A5%E0%B8%B1%E0%B8%87%E0%B9%82%E0%B8%A3%E0%B8%87%E0%B8%87%E0%B8%B2%E0%B8%99%20%E0%B8%9B%E0%B8%B5%202564.pdf\"\n",
    "source = \"data.go.th\"\n",
    "license = \"Creative Commons Attributions\"\n",
    "\n",
    "encoded_name = string_to_code(title)\n",
    "filename = f\"pdf_{encoded_name}.pdf\"\n",
    "print(f\"filename: {filename}\")\n",
    "\n",
    "pdf_save_path = os.path.join(BASE_PATH_SAVE, filename)\n",
    "meta_save_path = os.path.join(\n",
    "    BASE_PATH_SAVE_META, filename.rstrip(\".pdf\") + \"_meta.csv\"\n",
    ")\n",
    "\n",
    "command = [\"wget\", url, \"-O\", pdf_save_path, \"-q\"]\n",
    "get_pdf_and_save_meta(title, url, source, license, filename, command, meta_save_path)"
   ]
  },
  {
   "cell_type": "code",
   "execution_count": null,
   "id": "51cb6c03",
   "metadata": {},
   "outputs": [],
   "source": []
  },
  {
   "cell_type": "markdown",
   "id": "221b4607",
   "metadata": {},
   "source": [
    "# นโยบายและแผนระดับชาติว่าด้วยการพัฒนาดิจิทัลเพื่อเศรษฐกิจและสังคม\n"
   ]
  },
  {
   "cell_type": "markdown",
   "id": "1578b24d",
   "metadata": {},
   "source": [
    "ready"
   ]
  },
  {
   "cell_type": "code",
   "execution_count": null,
   "id": "d5f89d98",
   "metadata": {},
   "outputs": [],
   "source": [
    "title = \"นโยบายและแผนระดับชาติว่าด้วยการพัฒนาดิจิทัลเพื่อเศรษฐกิจและสังคม\"\n",
    "url = \"https://www.onde.go.th/assets/portals/1/files/%E0%B8%99%E0%B9%82%E0%B8%A2%E0%B8%9A%E0%B8%B2%E0%B8%A2%E0%B9%81%E0%B8%A5%E0%B8%B0%E0%B9%81%E0%B8%9C%E0%B8%99%E0%B8%A3%E0%B8%B0%E0%B8%94%E0%B8%B1%E0%B8%9A%E0%B8%8A%E0%B8%B2%E0%B8%95%E0%B8%B4.PDF\"\n",
    "source = \"data.go.th\"\n",
    "license = \"Open Data Common\"\n",
    "\n",
    "encoded_name = string_to_code(title)\n",
    "filename = f\"pdf_{encoded_name}.pdf\"\n",
    "print(f\"filename: {filename}\")\n",
    "\n",
    "pdf_save_path = os.path.join(BASE_PATH_SAVE, filename)\n",
    "meta_save_path = os.path.join(\n",
    "    BASE_PATH_SAVE_META, filename.rstrip(\".pdf\") + \"_meta.csv\"\n",
    ")\n",
    "\n",
    "command = [\"wget\", url, \"-O\", pdf_save_path, \"-q\"]\n",
    "get_pdf_and_save_meta(title, url, source, license, filename, command, meta_save_path)"
   ]
  },
  {
   "cell_type": "code",
   "execution_count": null,
   "id": "e9bcca28",
   "metadata": {},
   "outputs": [],
   "source": []
  },
  {
   "cell_type": "markdown",
   "id": "64b97e44",
   "metadata": {},
   "source": [
    "# แนวปฏิบัติในการรักษาความมั่นคงปลอดภัยด้านสารสนเทศ (Policy & Instruction for IT Security)"
   ]
  },
  {
   "cell_type": "markdown",
   "id": "4b84926c",
   "metadata": {},
   "source": [
    "## นโยบายและแนวปฏิบัติรักษาความมั่นคงปลอดภัย"
   ]
  },
  {
   "cell_type": "markdown",
   "id": "3f9f5fe8",
   "metadata": {},
   "source": [
    "ready"
   ]
  },
  {
   "cell_type": "code",
   "execution_count": null,
   "id": "f2ab6f78",
   "metadata": {},
   "outputs": [],
   "source": [
    "title = \"นโยบายและแนวปฏิบัติรักษาความมั่นคงปลอดภัย\"\n",
    "url = \"https://www.onde.go.th/assets/portals//files/%E0%B8%99%E0%B9%82%E0%B8%A2%E0%B8%9A%E0%B8%B2%E0%B8%A2%E0%B9%81%E0%B8%A5%E0%B8%B0%E0%B9%81%E0%B8%99%E0%B8%A7%E0%B8%9B%E0%B8%8F%E0%B8%B4%E0%B8%9A%E0%B8%B1%E0%B8%95%E0%B8%B4%E0%B8%A3%E0%B8%B1%E0%B8%81%E0%B8%A9%E0%B8%B2%E0%B8%84%E0%B8%A7%E0%B8%B2%E0%B8%A1%E0%B8%A1%E0%B8%B1%E0%B9%88%E0%B8%99%E0%B8%84%E0%B8%87%E0%B8%9B%E0%B8%A5%E0%B8%AD%E0%B8%94%E0%B8%A0.pdf\"\n",
    "source = \"data.go.th\"\n",
    "license = \"Open Data Common\"\n",
    "\n",
    "encoded_name = string_to_code(title)\n",
    "filename = f\"pdf_{encoded_name}.pdf\"\n",
    "print(f\"filename: {filename}\")\n",
    "\n",
    "pdf_save_path = os.path.join(BASE_PATH_SAVE, filename)\n",
    "meta_save_path = os.path.join(\n",
    "    BASE_PATH_SAVE_META, filename.rstrip(\".pdf\") + \"_meta.csv\"\n",
    ")\n",
    "\n",
    "command = [\"wget\", url, \"-O\", pdf_save_path, \"-q\"]\n",
    "get_pdf_and_save_meta(title, url, source, license, filename, command, meta_save_path)"
   ]
  },
  {
   "cell_type": "markdown",
   "id": "90254b51",
   "metadata": {},
   "source": [
    "## แผนรับมือภัยคุกคามทางไซเบอร์ ของ สดช."
   ]
  },
  {
   "cell_type": "markdown",
   "id": "98a395af",
   "metadata": {},
   "source": [
    "ready"
   ]
  },
  {
   "cell_type": "code",
   "execution_count": null,
   "id": "6e6d1c8c",
   "metadata": {},
   "outputs": [],
   "source": [
    "title = \"แผนรับมือภัยคุกคามทางไซเบอร์ ของ สดช.\"\n",
    "url = \"https://datacatalog.onde.go.th/dataset/ddb9dff8-9d80-4a83-80b6-87830b69d767/resource/86c25b0d-4d93-4d1c-ba0a-df685442926b/download/-.pdf\"\n",
    "source = \"data.go.th\"\n",
    "license = \"Open Data Common\"\n",
    "\n",
    "encoded_name = string_to_code(title)\n",
    "filename = f\"pdf_{encoded_name}.pdf\"\n",
    "print(f\"filename: {filename}\")\n",
    "\n",
    "pdf_save_path = os.path.join(BASE_PATH_SAVE, filename)\n",
    "meta_save_path = os.path.join(\n",
    "    BASE_PATH_SAVE_META, filename.rstrip(\".pdf\") + \"_meta.csv\"\n",
    ")\n",
    "\n",
    "command = [\"wget\", url, \"-O\", pdf_save_path, \"-q\"]\n",
    "get_pdf_and_save_meta(title, url, source, license, filename, command, meta_save_path)"
   ]
  },
  {
   "cell_type": "markdown",
   "id": "c3e73030",
   "metadata": {},
   "source": [
    "## แผนสำรองและกู้คืนระบบ (Disaster Recovery Plan)"
   ]
  },
  {
   "cell_type": "markdown",
   "id": "98a30f10",
   "metadata": {},
   "source": [
    "ready"
   ]
  },
  {
   "cell_type": "code",
   "execution_count": null,
   "id": "1f8b4509",
   "metadata": {},
   "outputs": [],
   "source": [
    "title = \"แผนสำรองและกู้คืนระบบ (Disaster Recovery Plan)\"\n",
    "url = \"https://datacatalog.onde.go.th/dataset/ddb9dff8-9d80-4a83-80b6-87830b69d767/resource/39450d18-c3b0-477f-ac1f-edb2b0b7e918/download/-disaster-recovery-plan.pdf\"\n",
    "source = \"data.go.th\"\n",
    "license = \"Open Data Common\"\n",
    "\n",
    "encoded_name = string_to_code(title)\n",
    "filename = f\"pdf_{encoded_name}.pdf\"\n",
    "print(f\"filename: {filename}\")\n",
    "\n",
    "pdf_save_path = os.path.join(BASE_PATH_SAVE, filename)\n",
    "meta_save_path = os.path.join(\n",
    "    BASE_PATH_SAVE_META, filename.rstrip(\".pdf\") + \"_meta.csv\"\n",
    ")\n",
    "\n",
    "command = [\"wget\", url, \"-O\", pdf_save_path, \"-q\"]\n",
    "get_pdf_and_save_meta(title, url, source, license, filename, command, meta_save_path)"
   ]
  },
  {
   "cell_type": "code",
   "execution_count": null,
   "id": "52a5b882",
   "metadata": {},
   "outputs": [],
   "source": []
  },
  {
   "cell_type": "markdown",
   "id": "a8ff8f6e",
   "metadata": {},
   "source": [
    "# มาตรฐานทักษะวิชาชีพไอซีที"
   ]
  },
  {
   "cell_type": "code",
   "execution_count": null,
   "id": "e61a502d",
   "metadata": {},
   "outputs": [],
   "source": []
  },
  {
   "cell_type": "markdown",
   "id": "c8dea080",
   "metadata": {},
   "source": [
    "# ข้อมูลแผนเฉพาะด้านโครงสร้างพื้นฐานดิจิทัล\n"
   ]
  },
  {
   "cell_type": "markdown",
   "id": "f505f08d",
   "metadata": {},
   "source": [
    "ready"
   ]
  },
  {
   "cell_type": "code",
   "execution_count": null,
   "id": "869fde38",
   "metadata": {},
   "outputs": [],
   "source": [
    "title = \"ข้อมูลแผนเฉพาะด้านโครงสร้างพื้นฐานดิจิทัล\"\n",
    "url = \"https://datacatalog.onde.go.th/dataset/777bee7b-ccc5-4a3f-a317-c1866d0b2e5b/resource/ef337efc-a02f-422f-bbbd-e21f3a9f8605/download/onde-digital-infra-master-plan_revised-draft-master-plan_v82_hl-1.pdf\"\n",
    "source = \"data.go.th\"\n",
    "license = \"Open Data Common\"\n",
    "\n",
    "encoded_name = string_to_code(title)\n",
    "filename = f\"pdf_{encoded_name}.pdf\"\n",
    "print(f\"filename: {filename}\")\n",
    "\n",
    "pdf_save_path = os.path.join(BASE_PATH_SAVE, filename)\n",
    "meta_save_path = os.path.join(\n",
    "    BASE_PATH_SAVE_META, filename.rstrip(\".pdf\") + \"_meta.csv\"\n",
    ")\n",
    "\n",
    "command = [\"wget\", url, \"-O\", pdf_save_path, \"-q\"]\n",
    "get_pdf_and_save_meta(title, url, source, license, filename, command, meta_save_path)"
   ]
  },
  {
   "cell_type": "code",
   "execution_count": null,
   "id": "70aad099",
   "metadata": {},
   "outputs": [],
   "source": []
  },
  {
   "cell_type": "markdown",
   "id": "e14a0b50",
   "metadata": {},
   "source": [
    "# รายงานการประเมินความเสี่ยงการทุจริตประจำปี\n"
   ]
  },
  {
   "cell_type": "markdown",
   "id": "b4d6f3d2",
   "metadata": {},
   "source": [
    "ready"
   ]
  },
  {
   "cell_type": "code",
   "execution_count": null,
   "id": "c459c5e7",
   "metadata": {},
   "outputs": [],
   "source": [
    "title = \"รายงานการประเมินความเสี่ยงการทุจริตประจำปี\"\n",
    "url = \"https://opendata.sme.go.th/dataset/06b2591e-2088-46bf-99cc-6e19a7712ac4/resource/098b8ea5-3c37-4908-bebd-55d0447ede3c/download/-2567.pdf\"\n",
    "source = \"data.go.th\"\n",
    "license = \"Creative Commons Attributions\"\n",
    "\n",
    "encoded_name = string_to_code(title)\n",
    "filename = f\"pdf_{encoded_name}.pdf\"\n",
    "print(f\"filename: {filename}\")\n",
    "\n",
    "pdf_save_path = os.path.join(BASE_PATH_SAVE, filename)\n",
    "meta_save_path = os.path.join(\n",
    "    BASE_PATH_SAVE_META, filename.rstrip(\".pdf\") + \"_meta.csv\"\n",
    ")\n",
    "\n",
    "command = [\"wget\", url, \"-O\", pdf_save_path, \"-q\", \"--no-check-certificate\"]\n",
    "get_pdf_and_save_meta(title, url, source, license, filename, command, meta_save_path)"
   ]
  },
  {
   "cell_type": "code",
   "execution_count": null,
   "id": "372f82d3",
   "metadata": {},
   "outputs": [],
   "source": []
  },
  {
   "cell_type": "markdown",
   "id": "70801ecc",
   "metadata": {},
   "source": [
    "# หนังสือเที่ยวชุมชนไปกับคน อพท. (ภาษาอังกฤษ/ภาษาไทย)\n"
   ]
  },
  {
   "cell_type": "markdown",
   "id": "74091db9",
   "metadata": {},
   "source": [
    "ready"
   ]
  },
  {
   "cell_type": "code",
   "execution_count": null,
   "id": "5e1d0c01",
   "metadata": {},
   "outputs": [],
   "source": [
    "title = \"หนังสือเที่ยวชุมชนไปกับคน อพท. (ภาษาไทย)\"\n",
    "url = \"https://data.go.th/dataset/d9dc4283-3ddd-4da6-9fda-4c6a0e7d9c1c/resource/0e3cd6d3-b1b7-4304-9d56-51cf660cb146/download/booklet-__thai.pdf\"\n",
    "source = \"data.go.th\"\n",
    "license = \"Creative Commons Attributions\"\n",
    "\n",
    "encoded_name = string_to_code(title)\n",
    "filename = f\"pdf_{encoded_name}.pdf\"\n",
    "print(f\"filename: {filename}\")\n",
    "\n",
    "pdf_save_path = os.path.join(BASE_PATH_SAVE, filename)\n",
    "meta_save_path = os.path.join(\n",
    "    BASE_PATH_SAVE_META, filename.rstrip(\".pdf\") + \"_meta.csv\"\n",
    ")\n",
    "\n",
    "command = [\"wget\", url, \"-O\", pdf_save_path, \"-q\", \"--no-check-certificate\"]\n",
    "get_pdf_and_save_meta(title, url, source, license, filename, command, meta_save_path)"
   ]
  },
  {
   "cell_type": "code",
   "execution_count": null,
   "id": "95f5b7cb",
   "metadata": {},
   "outputs": [],
   "source": []
  },
  {
   "cell_type": "markdown",
   "id": "8bf1b46b",
   "metadata": {},
   "source": [
    "# ข้อมูลรถโดยสารประจำทาง หมวด 1 กทม. (เส้นทางปฏิรูป)\n"
   ]
  },
  {
   "cell_type": "code",
   "execution_count": 34,
   "id": "d0bc3445",
   "metadata": {},
   "outputs": [],
   "source": [
    "df = pd.read_csv(\"../ข้อมูลรถโดยสารประจำทาง หมวด 1 กทม. (เส้นทางปฏิรูป).csv\")\n",
    "title = df[\"title\"].str.replace(\" \", \"\", regex=False).to_list()\n",
    "url = df[\"url\"].str.strip().to_list()\n",
    "source = [\"data.go.th\"] * len(title)\n",
    "license = [\"GNU Free Documentation License\"] * len(title)\n",
    "filename = [t + \".pdf\" for t in title]\n",
    "\n",
    "meta_save_path = os.path.join(\n",
    "    BASE_PATH_SAVE_META, \"pdf_ข้อมูลรถโดยสารประจำทาง หมวด 1 กทม. (เส้นทางปฏิรูป)_meta.csv\"\n",
    ")\n",
    "pd.DataFrame(\n",
    "    {\n",
    "        \"title\": title,\n",
    "        \"url\": url,\n",
    "        \"source\": source,\n",
    "        \"license\": license,\n",
    "        \"filename\": filename,\n",
    "    }\n",
    ").to_csv(meta_save_path, index=False)"
   ]
  },
  {
   "cell_type": "code",
   "execution_count": 35,
   "id": "5ef3959d",
   "metadata": {},
   "outputs": [],
   "source": [
    "df = pd.DataFrame(\n",
    "    {\n",
    "        \"title\": title,\n",
    "        \"url\": url,\n",
    "        \"source\": source,\n",
    "        \"license\": license,\n",
    "        \"filename\": filename,\n",
    "    }\n",
    ")\n",
    "resource_links = df.to_dict(orient=\"records\")"
   ]
  },
  {
   "cell_type": "code",
   "execution_count": null,
   "id": "927b06ab",
   "metadata": {},
   "outputs": [],
   "source": [
    "for item in tqdm(resource_links, desc=\"donwloading pdf \"):\n",
    "    pdf_save_path = os.path.join(BASE_PATH_SAVE, item[\"filename\"])\n",
    "    download_pdf(url=item[\"url\"], save_path=pdf_save_path)"
   ]
  },
  {
   "cell_type": "code",
   "execution_count": null,
   "id": "7d18cf1e",
   "metadata": {},
   "outputs": [],
   "source": []
  },
  {
   "cell_type": "code",
   "execution_count": null,
   "id": "1f6e5320",
   "metadata": {},
   "outputs": [],
   "source": []
  },
  {
   "cell_type": "markdown",
   "id": "9c7ec389",
   "metadata": {},
   "source": [
    "# แผนการตรวจสอบระยะยาว"
   ]
  },
  {
   "cell_type": "code",
   "execution_count": null,
   "id": "e9d67a22",
   "metadata": {},
   "outputs": [],
   "source": [
    "web_url = \"https://gdcatalog.go.th/dataset/gdpublish-xc6-4\"\n",
    "\n",
    "# Use a session to reuse the TCP connection for faster requests\n",
    "session = requests.Session()\n",
    "\n",
    "# Fetch and parse the main page\n",
    "response = session.get(web_url)\n",
    "response.raise_for_status()\n",
    "soup = BeautifulSoup(response.text, \"html.parser\")\n",
    "\n",
    "# Extract resource links with titles\n",
    "base_url = \"https://gdcatalog.go.th\"\n",
    "resources_section = soup.find(\"section\", id=\"dataset-resources\")\n",
    "resource_links = [\n",
    "    {\n",
    "        \"title\": a[\"title\"].strip(),\n",
    "        \"href\": base_url + a[\"href\"],\n",
    "        \"source\": \"Goverment data catalog smart plus\",\n",
    "        \"license\": \"Open Data Common\",\n",
    "    }\n",
    "    for a in resources_section.find_all(\"a\", class_=\"heading\")\n",
    "]\n",
    "\n",
    "# Process each resource to extract the PDF URL\n",
    "for i, resource in enumerate(tqdm(resource_links, desc=\"Processing resources\")):\n",
    "    pdf_page = session.get(resource[\"href\"])\n",
    "    pdf_page.raise_for_status()\n",
    "    pdf_soup = BeautifulSoup(pdf_page.text, \"html.parser\")\n",
    "    pdf_url = pdf_soup.find(\"a\", class_=\"resource-url-analytics\")[\"href\"]\n",
    "    resource[\"url\"] = pdf_url\n",
    "    resource[\"filename\"] = f\"pdf_แผนการตรวจสอบระยะยาว_0{i}.pdf\"\n",
    "    resource.pop(\"href\", None)"
   ]
  },
  {
   "cell_type": "code",
   "execution_count": null,
   "id": "b6bc4b89",
   "metadata": {},
   "outputs": [],
   "source": [
    "resource_links[:3]"
   ]
  },
  {
   "cell_type": "code",
   "execution_count": 19,
   "id": "1225e2f4",
   "metadata": {},
   "outputs": [],
   "source": [
    "pd.DataFrame(resource_links).to_csv(\n",
    "    \"../pdf_documents_meta_tmp/pdf_แผนการตรวจสอบระยะยาว.csv\", index=False\n",
    ")"
   ]
  },
  {
   "cell_type": "code",
   "execution_count": null,
   "id": "afd169a6",
   "metadata": {},
   "outputs": [],
   "source": [
    "for item in tqdm(resource_links, desc=\"donwloading pdf \"):\n",
    "    download_pdf(\n",
    "        url=item[\"url\"], save_path=os.path.join(BASE_PATH_SAVE, item[\"filename\"])\n",
    "    )"
   ]
  },
  {
   "cell_type": "code",
   "execution_count": null,
   "id": "b8d3bd0f",
   "metadata": {},
   "outputs": [],
   "source": []
  },
  {
   "cell_type": "markdown",
   "id": "be274a5c",
   "metadata": {},
   "source": [
    "# มูลค่าและระดับการเติบโตของกิจกรรมทางเศรษฐกิจดิจิทัล\n"
   ]
  },
  {
   "cell_type": "code",
   "execution_count": null,
   "id": "dc9cc903",
   "metadata": {},
   "outputs": [],
   "source": [
    "web_url = \"https://gdcatalog.go.th/dataset/gdpublish-dsb21-1\"\n",
    "# Use a session to reuse the TCP connection for faster requests\n",
    "session = requests.Session()\n",
    "\n",
    "# Fetch and parse the main page\n",
    "response = session.get(web_url)\n",
    "response.raise_for_status()\n",
    "soup = BeautifulSoup(response.text, \"html.parser\")\n",
    "\n",
    "# Extract resource links with titles\n",
    "base_url = \"https://gdcatalog.go.th\"\n",
    "resources_section = soup.find(\"section\", id=\"dataset-resources\")\n",
    "resource_links = [\n",
    "    {\n",
    "        \"title\": a[\"title\"].strip(),\n",
    "        \"href\": base_url + a[\"href\"],\n",
    "        \"source\": \"Goverment data catalog smart plus\",\n",
    "        \"license\": \"Open Data Common\",\n",
    "    }\n",
    "    for a in resources_section.find_all(\"a\", class_=\"heading\")\n",
    "]\n",
    "\n",
    "# Process each resource to extract the PDF URL\n",
    "for i, resource in enumerate(tqdm(resource_links, desc=\"Processing resources\")):\n",
    "    pdf_page = session.get(resource[\"href\"])\n",
    "    pdf_page.raise_for_status()\n",
    "    pdf_soup = BeautifulSoup(pdf_page.text, \"html.parser\")\n",
    "    pdf_url = pdf_soup.find(\"a\", class_=\"resource-url-analytics\")[\"href\"]\n",
    "    resource[\"url\"] = pdf_url\n",
    "    resource[\"filename\"] = f\"pdf_มูลค่าและระดับการเติบโตของกิจกรรมทางเศรษฐกิจดิจิทัล_0{i}.pdf\"\n",
    "    resource.pop(\"href\", None)"
   ]
  },
  {
   "cell_type": "code",
   "execution_count": 28,
   "id": "649b1f60",
   "metadata": {},
   "outputs": [],
   "source": [
    "resource_links = list(filter(lambda x: x[\"url\"].endswith(\".pdf\"), resource_links))"
   ]
  },
  {
   "cell_type": "code",
   "execution_count": null,
   "id": "086bedee",
   "metadata": {},
   "outputs": [],
   "source": [
    "resource_links"
   ]
  },
  {
   "cell_type": "code",
   "execution_count": 30,
   "id": "64de50ed",
   "metadata": {},
   "outputs": [],
   "source": [
    "pd.DataFrame(resource_links).to_csv(\n",
    "    \"../pdf_documents_meta_tmp/pdf_มูลค่าและระดับการเติบโตของกิจกรรมทางเศรษฐกิจดิจิทัล.csv\",\n",
    "    index=False,\n",
    ")"
   ]
  },
  {
   "cell_type": "code",
   "execution_count": null,
   "id": "3645d5de",
   "metadata": {},
   "outputs": [],
   "source": [
    "for item in tqdm(resource_links, desc=\"donwloading pdf \"):\n",
    "    download_pdf(\n",
    "        url=item[\"url\"], save_path=os.path.join(BASE_PATH_SAVE, item[\"filename\"])\n",
    "    )"
   ]
  },
  {
   "cell_type": "code",
   "execution_count": null,
   "id": "994992e3",
   "metadata": {},
   "outputs": [],
   "source": []
  },
  {
   "cell_type": "markdown",
   "id": "47086fd9",
   "metadata": {},
   "source": [
    "# มาตรฐานทักษะวิชาชีพไอซีที\n"
   ]
  },
  {
   "cell_type": "code",
   "execution_count": null,
   "id": "5cf50be5",
   "metadata": {},
   "outputs": [],
   "source": [
    "web_url = \"https://gdcatalog.go.th/dataset/gdpublish-abc1-1\"\n",
    "\n",
    "# Use a session to reuse the TCP connection for faster requests\n",
    "session = requests.Session()\n",
    "\n",
    "# Fetch and parse the main page\n",
    "response = session.get(web_url)\n",
    "response.raise_for_status()\n",
    "soup = BeautifulSoup(response.text, \"html.parser\")\n",
    "\n",
    "# Extract resource links with titles\n",
    "base_url = \"https://gdcatalog.go.th\"\n",
    "resources_section = soup.find(\"section\", id=\"dataset-resources\")\n",
    "resource_links = [\n",
    "    {\n",
    "        \"title\": a[\"title\"].strip(),\n",
    "        \"href\": base_url + a[\"href\"],\n",
    "        \"source\": \"Goverment data catalog smart plus\",\n",
    "        \"license\": \"Open Data Common\",\n",
    "    }\n",
    "    for a in resources_section.find_all(\"a\", class_=\"heading\")\n",
    "]\n",
    "\n",
    "# Process each resource to extract the PDF URL\n",
    "for i, resource in enumerate(tqdm(resource_links, desc=\"Processing resources\")):\n",
    "    pdf_page = session.get(resource[\"href\"])\n",
    "    pdf_page.raise_for_status()\n",
    "    pdf_soup = BeautifulSoup(pdf_page.text, \"html.parser\")\n",
    "    pdf_url = pdf_soup.find(\"a\", class_=\"resource-url-analytics\")[\"href\"]\n",
    "    resource[\"url\"] = pdf_url\n",
    "    resource[\"filename\"] = f\"pdf_มาตรฐานทักษะวิชาชีพไอซีที_0{i}.pdf\"\n",
    "    resource.pop(\"href\", None)"
   ]
  },
  {
   "cell_type": "code",
   "execution_count": 35,
   "id": "cb71ea0e",
   "metadata": {},
   "outputs": [],
   "source": [
    "resource_links = list(filter(lambda x: x[\"url\"].endswith(\".pdf\"), resource_links))"
   ]
  },
  {
   "cell_type": "code",
   "execution_count": null,
   "id": "b8302761",
   "metadata": {},
   "outputs": [],
   "source": [
    "resource_links"
   ]
  },
  {
   "cell_type": "code",
   "execution_count": 37,
   "id": "7ee80181",
   "metadata": {},
   "outputs": [],
   "source": [
    "pd.DataFrame(resource_links).to_csv(\n",
    "    \"../pdf_documents_meta_tmp/pdf_มาตรฐานทักษะวิชาชีพไอซีที.csv\", index=False\n",
    ")"
   ]
  },
  {
   "cell_type": "code",
   "execution_count": null,
   "id": "f592a513",
   "metadata": {},
   "outputs": [],
   "source": [
    "for item in tqdm(resource_links, desc=\"donwloading pdf \"):\n",
    "    download_pdf(\n",
    "        url=item[\"url\"], save_path=os.path.join(BASE_PATH_SAVE, item[\"filename\"])\n",
    "    )"
   ]
  },
  {
   "cell_type": "code",
   "execution_count": null,
   "id": "acade442",
   "metadata": {},
   "outputs": [],
   "source": []
  },
  {
   "cell_type": "markdown",
   "id": "6358c37c",
   "metadata": {},
   "source": [
    "# เอกสารแนะนำการท่องเที่ยวของชุมชนท่องเที่ยว"
   ]
  },
  {
   "cell_type": "code",
   "execution_count": null,
   "id": "3baa0971",
   "metadata": {},
   "outputs": [],
   "source": [
    "web_url = \"https://gdcatalog.go.th/dataset/gdpublish-14-02-66\"\n",
    "\n",
    "# Use a session to reuse the TCP connection for faster requests\n",
    "session = requests.Session()\n",
    "\n",
    "# Fetch and parse the main page\n",
    "response = session.get(web_url)\n",
    "response.raise_for_status()\n",
    "soup = BeautifulSoup(response.text, \"html.parser\")\n",
    "\n",
    "# Extract resource links with titles\n",
    "base_url = \"https://gdcatalog.go.th\"\n",
    "resources_section = soup.find(\"section\", id=\"dataset-resources\")\n",
    "resource_links = [\n",
    "    {\n",
    "        \"title\": a[\"title\"].strip(),\n",
    "        \"href\": base_url + a[\"href\"],\n",
    "        \"source\": \"Goverment data catalog smart plus\",\n",
    "        \"license\": \"Creative Commons Attributions\",\n",
    "    }\n",
    "    for a in resources_section.find_all(\"a\", class_=\"heading\")\n",
    "]\n",
    "\n",
    "# Process each resource to extract the PDF URL\n",
    "for i, resource in enumerate(tqdm(resource_links, desc=\"Processing resources\")):\n",
    "    pdf_page = session.get(resource[\"href\"])\n",
    "    pdf_page.raise_for_status()\n",
    "    pdf_soup = BeautifulSoup(pdf_page.text, \"html.parser\")\n",
    "    pdf_url = pdf_soup.find(\"a\", class_=\"resource-url-analytics\")[\"href\"]\n",
    "    resource[\"url\"] = pdf_url\n",
    "    resource[\"filename\"] = f\"pdf_เอกสารแนะนำการท่องเที่ยวของชุมชนท่องเที่ยว_0{i}.pdf\"\n",
    "    resource.pop(\"href\", None)"
   ]
  },
  {
   "cell_type": "code",
   "execution_count": null,
   "id": "05204d27",
   "metadata": {},
   "outputs": [],
   "source": [
    "resource_links"
   ]
  },
  {
   "cell_type": "code",
   "execution_count": 21,
   "id": "557a0126",
   "metadata": {},
   "outputs": [],
   "source": [
    "meta_save_path = os.path.join(\n",
    "    BASE_PATH_SAVE_META, \"pdf_เอกสารแนะนำการท่องเที่ยวของชุมชนท่องเที่ยว.csv\"\n",
    ")\n",
    "pd.DataFrame(resource_links).to_csv(meta_save_path, index=False)"
   ]
  },
  {
   "cell_type": "code",
   "execution_count": null,
   "id": "d209f832",
   "metadata": {},
   "outputs": [],
   "source": [
    "for item in tqdm(resource_links, desc=\"donwloading pdf \"):\n",
    "    pdf_save_path = os.path.join(BASE_PATH_SAVE, item[\"filename\"])\n",
    "    download_pdf(url=item[\"url\"], save_path=pdf_save_path)"
   ]
  },
  {
   "cell_type": "code",
   "execution_count": null,
   "id": "51507bb6",
   "metadata": {},
   "outputs": [],
   "source": []
  },
  {
   "cell_type": "markdown",
   "id": "ae3be709",
   "metadata": {},
   "source": [
    "# แจกเอกสารประกอบการสอนเพื่อการศึกษา (PDF) KongRuksiam Studio"
   ]
  },
  {
   "cell_type": "code",
   "execution_count": null,
   "id": "355ebc7b",
   "metadata": {},
   "outputs": [],
   "source": [
    "filename = [\n",
    "    \"พัฒนาเว็บด้วย Python & Flask (Free).pdf\",\n",
    "    \"เรียนรู้การใช้งาน Git & GitHub สำหรับผู้เริ่มต้น.pdf\",\n",
    "    \"JSON เบื้องต้น (Update).pdf\",\n",
    "    \"Python & OpenCV Computer Vision & Image Processing (Free).pdf\",\n",
    "    \"รวมเล่มพัฒนาเว็บด้วย PHP สำหรับผู้เริ่มต้น.pdf\",\n",
    "    \"เรียนรู้การใช้งาน Visual Studio Code.pdf\",\n",
    "    \"ปูพื้นฐาน HTML CSS JavaScript (Free).pdf\",\n",
    "    \"รวมเล่มเขียนโปรแกรมภาษา C เบื้องต้น.pdf\",\n",
    "    \"รวมเล่มเขียนโปรแกรมภาษา Python (อัปเดตล่าสุด).pdf\",\n",
    "    \"เขียนโปรแกรมเชิงวัตถุด้วยภาษา Java (Update).pdf\",\n",
    "    \"Python OOP.pdf\",\n",
    "]\n",
    "\n",
    "url = [\n",
    "    \"https://github.com/kongruksiamza/ebook-for-education/blob/main/Flask%20Framework%20%E0%B9%80%E0%B8%9A%E0%B8%B7%E0%B9%89%E0%B8%AD%E0%B8%87%E0%B8%95%E0%B9%89%E0%B8%99/%E0%B8%9E%E0%B8%B1%E0%B8%92%E0%B8%99%E0%B8%B2%E0%B9%80%E0%B8%A7%E0%B9%87%E0%B8%9A%E0%B8%94%E0%B9%89%E0%B8%A7%E0%B8%A2%20Python%20%26%20Flask%20(Free).pdf\",\n",
    "    \"https://github.com/kongruksiamza/ebook-for-education/blob/main/Git%20%26%20GitHub%20%E0%B9%80%E0%B8%9A%E0%B8%B7%E0%B9%89%E0%B8%AD%E0%B8%87%E0%B8%95%E0%B9%89%E0%B8%99/%E0%B9%80%E0%B8%A3%E0%B8%B5%E0%B8%A2%E0%B8%99%E0%B8%A3%E0%B8%B9%E0%B9%89%E0%B8%81%E0%B8%B2%E0%B8%A3%E0%B9%83%E0%B8%8A%E0%B9%89%E0%B8%87%E0%B8%B2%E0%B8%99%20Git%20%26%20GitHub%20%E0%B8%AA%E0%B8%B3%E0%B8%AB%E0%B8%A3%E0%B8%B1%E0%B8%9A%E0%B8%9C%E0%B8%B9%E0%B9%89%E0%B9%80%E0%B8%A3%E0%B8%B4%E0%B9%88%E0%B8%A1%E0%B8%95%E0%B9%89%E0%B8%99.pdf\",\n",
    "    \"https://github.com/kongruksiamza/ebook-for-education/blob/main/JSON%20%E0%B9%80%E0%B8%9A%E0%B8%B7%E0%B9%89%E0%B8%AD%E0%B8%87%E0%B8%95%E0%B9%89%E0%B8%99/JSON%20%E0%B9%80%E0%B8%9A%E0%B8%B7%E0%B9%89%E0%B8%AD%E0%B8%87%E0%B8%95%E0%B9%89%E0%B8%99%20(Update).pdf\",\n",
    "    \"https://github.com/kongruksiamza/ebook-for-education/blob/main/OpenCV%20%26%20Python%20%E0%B8%AA%E0%B8%B3%E0%B8%AB%E0%B8%A3%E0%B8%B1%E0%B8%9A%E0%B8%81%E0%B8%B2%E0%B8%A3%E0%B8%9B%E0%B8%A3%E0%B8%B0%E0%B8%A1%E0%B8%A7%E0%B8%A5%E0%B8%9C%E0%B8%A5%E0%B8%A0%E0%B8%B2%E0%B8%9E%20(Image%20Processing)/Python%20%26%20OpenCV%20Computer%20Vision%20%26%20Image%20Processing%20(Free).pdf\",\n",
    "    \"https://github.com/kongruksiamza/ebook-for-education/blob/main/PHP%20%E0%B9%80%E0%B8%9A%E0%B8%B7%E0%B9%89%E0%B8%AD%E0%B8%87%E0%B8%95%E0%B9%89%E0%B8%99/%E0%B8%A3%E0%B8%A7%E0%B8%A1%E0%B9%80%E0%B8%A5%E0%B9%88%E0%B8%A1%E0%B8%9E%E0%B8%B1%E0%B8%92%E0%B8%99%E0%B8%B2%E0%B9%80%E0%B8%A7%E0%B9%87%E0%B8%9A%E0%B8%94%E0%B9%89%E0%B8%A7%E0%B8%A2%20PHP%20%E0%B8%AA%E0%B8%B3%E0%B8%AB%E0%B8%A3%E0%B8%B1%E0%B8%9A%E0%B8%9C%E0%B8%B9%E0%B9%89%E0%B9%80%E0%B8%A3%E0%B8%B4%E0%B9%88%E0%B8%A1%E0%B8%95%E0%B9%89%E0%B8%99.pdf\",\n",
    "    \"https://github.com/kongruksiamza/ebook-for-education/blob/main/Visual%20Studio%20Code%20%E0%B9%80%E0%B8%9A%E0%B8%B7%E0%B9%89%E0%B8%AD%E0%B8%87%E0%B8%95%E0%B9%89%E0%B8%99/%E0%B9%80%E0%B8%A3%E0%B8%B5%E0%B8%A2%E0%B8%99%E0%B8%A3%E0%B8%B9%E0%B9%89%E0%B8%81%E0%B8%B2%E0%B8%A3%E0%B9%83%E0%B8%8A%E0%B9%89%E0%B8%87%E0%B8%B2%E0%B8%99%20Visual%20Studio%20Code.pdf\",\n",
    "    \"https://github.com/kongruksiamza/ebook-for-education/blob/main/%E0%B8%9E%E0%B8%B7%E0%B9%89%E0%B8%99%E0%B8%90%E0%B8%B2%E0%B8%99%20HTML%20%2CCSS%20%2C%20JavaScript/%E0%B8%9B%E0%B8%B9%E0%B8%9E%E0%B8%B7%E0%B9%89%E0%B8%99%E0%B8%90%E0%B8%B2%E0%B8%99%20HTML%20CSS%20JavaScript%20(Free).pdf\",\n",
    "    \"https://github.com/kongruksiamza/ebook-for-education/blob/main/%E0%B9%80%E0%B8%82%E0%B8%B5%E0%B8%A2%E0%B8%99%E0%B9%82%E0%B8%9B%E0%B8%A3%E0%B9%81%E0%B8%81%E0%B8%A3%E0%B8%A1%E0%B8%A0%E0%B8%B2%E0%B8%A9%E0%B8%B2%20C%20%E0%B9%80%E0%B8%9A%E0%B8%B7%E0%B9%89%E0%B8%AD%E0%B8%87%E0%B8%95%E0%B9%89%E0%B8%99/%E0%B8%A3%E0%B8%A7%E0%B8%A1%E0%B9%80%E0%B8%A5%E0%B9%88%E0%B8%A1%E0%B9%80%E0%B8%82%E0%B8%B5%E0%B8%A2%E0%B8%99%E0%B9%82%E0%B8%9B%E0%B8%A3%E0%B9%81%E0%B8%81%E0%B8%A3%E0%B8%A1%E0%B8%A0%E0%B8%B2%E0%B8%A9%E0%B8%B2%20C%20%E0%B9%80%E0%B8%9A%E0%B8%B7%E0%B9%89%E0%B8%AD%E0%B8%87%E0%B8%95%E0%B9%89%E0%B8%99.pdf\",\n",
    "    \"https://github.com/kongruksiamza/ebook-for-education/blob/main/%E0%B9%80%E0%B8%82%E0%B8%B5%E0%B8%A2%E0%B8%99%E0%B9%82%E0%B8%9B%E0%B8%A3%E0%B9%81%E0%B8%81%E0%B8%A3%E0%B8%A1%E0%B8%A0%E0%B8%B2%E0%B8%A9%E0%B8%B2%20Python%20(%E0%B8%AD%E0%B8%B1%E0%B8%9B%E0%B9%80%E0%B8%94%E0%B8%95%E0%B8%A5%E0%B9%88%E0%B8%B2%E0%B8%AA%E0%B8%B8%E0%B8%94)/%E0%B8%A3%E0%B8%A7%E0%B8%A1%E0%B9%80%E0%B8%A5%E0%B9%88%E0%B8%A1%E0%B9%80%E0%B8%82%E0%B8%B5%E0%B8%A2%E0%B8%99%E0%B9%82%E0%B8%9B%E0%B8%A3%E0%B9%81%E0%B8%81%E0%B8%A3%E0%B8%A1%E0%B8%A0%E0%B8%B2%E0%B8%A9%E0%B8%B2%20Python%20(%E0%B8%AD%E0%B8%B1%E0%B8%9B%E0%B9%80%E0%B8%94%E0%B8%95%E0%B8%A5%E0%B9%88%E0%B8%B2%E0%B8%AA%E0%B8%B8%E0%B8%94).pdf\",\n",
    "    \"https://github.com/kongruksiamza/ebook-for-education/blob/main/%E0%B9%80%E0%B8%82%E0%B8%B5%E0%B8%A2%E0%B8%99%E0%B9%82%E0%B8%9B%E0%B8%A3%E0%B9%81%E0%B8%81%E0%B8%A3%E0%B8%A1%E0%B9%80%E0%B8%8A%E0%B8%B4%E0%B8%87%E0%B8%A7%E0%B8%B1%E0%B8%95%E0%B8%96%E0%B8%B8%E0%B8%94%E0%B9%89%E0%B8%A7%E0%B8%A2%20Java/%E0%B9%80%E0%B8%82%E0%B8%B5%E0%B8%A2%E0%B8%99%E0%B9%82%E0%B8%9B%E0%B8%A3%E0%B9%81%E0%B8%81%E0%B8%A3%E0%B8%A1%E0%B9%80%E0%B8%8A%E0%B8%B4%E0%B8%87%E0%B8%A7%E0%B8%B1%E0%B8%95%E0%B8%96%E0%B8%B8%E0%B8%94%E0%B9%89%E0%B8%A7%E0%B8%A2%E0%B8%A0%E0%B8%B2%E0%B8%A9%E0%B8%B2%20Java%20(Update).pdf\",\n",
    "    \"https://github.com/kongruksiamza/ebook-for-education/blob/main/%E0%B9%80%E0%B8%82%E0%B8%B5%E0%B8%A2%E0%B8%99%E0%B9%82%E0%B8%9B%E0%B8%A3%E0%B9%81%E0%B8%81%E0%B8%A3%E0%B8%A1%E0%B9%80%E0%B8%8A%E0%B8%B4%E0%B8%87%E0%B8%A7%E0%B8%B1%E0%B8%95%E0%B8%96%E0%B8%B8%E0%B8%94%E0%B9%89%E0%B8%A7%E0%B8%A2%20Python/Python%20OOP.pdf\",\n",
    "]\n",
    "source = [\"https://github.com/kongruksiamza/ebook-for-education\"] * len(filename)\n",
    "license = [\"CC BY-NC\"] * len(filename)\n",
    "title = [f.replace(\".pdf\", \"\") for f in filename]\n",
    "\n",
    "meta_save_path = os.path.join(\n",
    "    BASE_PATH_SAVE_META, \"pdf_แจกเอกสารประกอบการสอนเพื่อการศึกษา_kong.csv\"\n",
    ")\n",
    "pd.DataFrame(\n",
    "    {\n",
    "        \"title\": title,\n",
    "        \"url\": url,\n",
    "        \"source\": source,\n",
    "        \"license\": license,\n",
    "        \"filename\": filename,\n",
    "    }\n",
    ").to_csv(meta_save_path, index=False)"
   ]
  },
  {
   "cell_type": "code",
   "execution_count": null,
   "id": "664835f9",
   "metadata": {},
   "outputs": [],
   "source": []
  },
  {
   "cell_type": "markdown",
   "id": "62d4eae3",
   "metadata": {},
   "source": [
    "# tmp"
   ]
  },
  {
   "cell_type": "code",
   "execution_count": null,
   "id": "bea4573c",
   "metadata": {},
   "outputs": [],
   "source": []
  },
  {
   "cell_type": "code",
   "execution_count": null,
   "id": "138ee5cd",
   "metadata": {},
   "outputs": [],
   "source": []
  },
  {
   "cell_type": "code",
   "execution_count": null,
   "id": "07a60ad0",
   "metadata": {},
   "outputs": [],
   "source": []
  }
 ],
 "metadata": {
  "kernelspec": {
   "display_name": "ocrenv",
   "language": "python",
   "name": "python3"
  },
  "language_info": {
   "codemirror_mode": {
    "name": "ipython",
    "version": 3
   },
   "file_extension": ".py",
   "mimetype": "text/x-python",
   "name": "python",
   "nbconvert_exporter": "python",
   "pygments_lexer": "ipython3",
   "version": "3.11.11"
  }
 },
 "nbformat": 4,
 "nbformat_minor": 5
}
